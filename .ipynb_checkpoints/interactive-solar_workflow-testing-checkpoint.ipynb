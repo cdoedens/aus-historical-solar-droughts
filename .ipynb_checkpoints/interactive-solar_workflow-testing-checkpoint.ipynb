{
 "cells": [
  {
   "cell_type": "code",
   "execution_count": 1,
   "id": "ce2a334d-f35a-4dc4-9ed2-aa296fbda120",
   "metadata": {},
   "outputs": [],
   "source": [
    "from compute_solar import solar_workflow"
   ]
  },
  {
   "cell_type": "code",
   "execution_count": 2,
   "id": "8f434d29-fb01-4b39-a1ef-44fdc9dc3df7",
   "metadata": {},
   "outputs": [
    {
     "name": "stderr",
     "output_type": "stream",
     "text": [
      "2025-05-26 17:05:37,583:compute_solar:INFO: reading data for 2020/01/01\n",
      "2025-05-26 17:05:37,586:compute_solar:INFO: getting region shape for: GCCSA, 2GMEL\n",
      "2025-05-26 17:05:40,894:compute_solar:INFO: chunking data with lat/lon size of: 50\n",
      "2025-05-26 17:05:40,899:compute_solar:INFO: Loading 103 files\n",
      "2025-05-26 17:05:55,529:compute_solar:INFO: applying regional mask\n",
      "INFO:compute_solar:applying regional mask\n",
      "2025-05-26 17:05:55,587:compute_solar:INFO: reading dataset variables\n",
      "INFO:compute_solar:reading dataset variables\n",
      "2025-05-26 17:06:13,552:compute_solar:INFO: getting ERA5 temperature\n",
      "INFO:compute_solar:getting ERA5 temperature\n",
      "2025-05-26 17:06:13,702:compute_solar:INFO: running pvlib functions\n",
      "INFO:compute_solar:running pvlib functions\n",
      "2025-05-26 17:06:15,731:compute_solar:INFO: Writing data to: /g/data/er8/users/cd3022/solar_drought/GCCSA/clear_sky_index/2GMEL/2020/01//2GMEL_timeseries_2020-01-01.nc\n",
      "INFO:compute_solar:Writing data to: /g/data/er8/users/cd3022/solar_drought/GCCSA/clear_sky_index/2GMEL/2020/01//2GMEL_timeseries_2020-01-01.nc\n",
      "2025-05-26 17:06:15,806:compute_solar:INFO: END OF SOLAR_WORKFLOW\n",
      "INFO:compute_solar:END OF SOLAR_WORKFLOW\n"
     ]
    }
   ],
   "source": [
    "solar_workflow(date='2020/01/01', region='GCCSA_2GMEL', var='clear_sky_index', tilt='fixed')"
   ]
  }
 ],
 "metadata": {
  "kernelspec": {
   "display_name": "Python [conda env:base] *",
   "language": "python",
   "name": "conda-base-py"
  },
  "language_info": {
   "codemirror_mode": {
    "name": "ipython",
    "version": 3
   },
   "file_extension": ".py",
   "mimetype": "text/x-python",
   "name": "python",
   "nbconvert_exporter": "python",
   "pygments_lexer": "ipython3",
   "version": "3.10.14"
  }
 },
 "nbformat": 4,
 "nbformat_minor": 5
}
