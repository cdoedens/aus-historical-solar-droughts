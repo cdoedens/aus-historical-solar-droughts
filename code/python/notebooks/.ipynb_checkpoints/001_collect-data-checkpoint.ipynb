{
 "cells": [
  {
   "cell_type": "code",
   "execution_count": 2,
   "id": "288278f4-9966-4214-b484-850e42b1c5fd",
   "metadata": {},
   "outputs": [],
   "source": [
    "import sys\n",
    "sys.path.append('aus-historical-solar-droughts/code/python/scripts')\n",
    "import utils\n",
    "import subprocess\n",
    "from datetime import datetime, timedelta\n",
    "from dateutil.relativedelta import relativedelta"
   ]
  },
  {
   "cell_type": "code",
   "execution_count": 18,
   "id": "32f916a5-fd5d-451b-b0a9-c2ff1e40a265",
   "metadata": {},
   "outputs": [
    {
     "name": "stdout",
     "output_type": "stream",
     "text": [
      "01-01-2020        31-01-2020\n",
      "01-02-2020        29-02-2020\n",
      "01-03-2020        31-03-2020\n",
      "01-04-2020        30-04-2020\n",
      "01-05-2020        31-05-2020\n",
      "01-06-2020        30-06-2020\n",
      "01-07-2020        31-07-2020\n",
      "01-08-2020        31-08-2020\n",
      "01-09-2020        30-09-2020\n",
      "01-10-2020        31-10-2020\n",
      "01-11-2020        30-11-2020\n",
      "01-12-2020        31-12-2020\n"
     ]
    }
   ],
   "source": [
    "first = '1-1-2020'\n",
    "num_months = 12\n",
    "\n",
    "first_dt = datetime.strptime(first, \"%d-%m-%Y\")\n",
    "dates = []\n",
    "for x in range(num_months):\n",
    "    start_dt = first_dt + relativedelta(months=1*x)\n",
    "    start_date = start_dt.strftime(\"%d-%m-%Y\")\n",
    "    end_dt = start_dt + relativedelta(months=1) - relativedelta(days=1)\n",
    "    end_date = end_dt.strftime(\"%d-%m-%Y\")\n",
    "    dates.append((start_date, end_date))\n",
    "    print(start_date, '      ', end_date)"
   ]
  },
  {
   "cell_type": "code",
   "execution_count": 20,
   "id": "5b7e4679-a467-43c2-bdea-5eeeb2710c00",
   "metadata": {},
   "outputs": [
    {
     "name": "stdout",
     "output_type": "stream",
     "text": [
      "137174918.gadi-pbs\n",
      "Job script /home/548/cd3022/aus-historical-solar-droughts/code/qsub/collect_data__01-01-2020___31-01-2020.qsub submitted successfully.\n",
      "137174920.gadi-pbs\n",
      "Job script /home/548/cd3022/aus-historical-solar-droughts/code/qsub/collect_data__01-02-2020___29-02-2020.qsub submitted successfully.\n",
      "137174921.gadi-pbs\n",
      "Job script /home/548/cd3022/aus-historical-solar-droughts/code/qsub/collect_data__01-03-2020___31-03-2020.qsub submitted successfully.\n",
      "137174922.gadi-pbs\n",
      "Job script /home/548/cd3022/aus-historical-solar-droughts/code/qsub/collect_data__01-04-2020___30-04-2020.qsub submitted successfully.\n",
      "137174923.gadi-pbs\n",
      "Job script /home/548/cd3022/aus-historical-solar-droughts/code/qsub/collect_data__01-05-2020___31-05-2020.qsub submitted successfully.\n",
      "137174924.gadi-pbs\n",
      "Job script /home/548/cd3022/aus-historical-solar-droughts/code/qsub/collect_data__01-06-2020___30-06-2020.qsub submitted successfully.\n",
      "137174925.gadi-pbs\n",
      "Job script /home/548/cd3022/aus-historical-solar-droughts/code/qsub/collect_data__01-07-2020___31-07-2020.qsub submitted successfully.\n",
      "137174926.gadi-pbs\n",
      "Job script /home/548/cd3022/aus-historical-solar-droughts/code/qsub/collect_data__01-08-2020___31-08-2020.qsub submitted successfully.\n",
      "137174927.gadi-pbs\n",
      "Job script /home/548/cd3022/aus-historical-solar-droughts/code/qsub/collect_data__01-09-2020___30-09-2020.qsub submitted successfully.\n",
      "137174928.gadi-pbs\n",
      "Job script /home/548/cd3022/aus-historical-solar-droughts/code/qsub/collect_data__01-10-2020___31-10-2020.qsub submitted successfully.\n",
      "137174929.gadi-pbs\n",
      "Job script /home/548/cd3022/aus-historical-solar-droughts/code/qsub/collect_data__01-11-2020___30-11-2020.qsub submitted successfully.\n",
      "137174930.gadi-pbs\n",
      "Job script /home/548/cd3022/aus-historical-solar-droughts/code/qsub/collect_data__01-12-2020___31-12-2020.qsub submitted successfully.\n"
     ]
    }
   ],
   "source": [
    "for start, end in dates:\n",
    "    \n",
    "    # Generate a unique file name based on iteration\n",
    "    joboutdir = '/home/548/cd3022/aus-historical-solar-droughts/code/qsub/'\n",
    "    job_script_filename = joboutdir + 'collect_data__' + start + '___' + end + '.qsub'\n",
    "    \n",
    "    # Open the file for writing\n",
    "    with open(job_script_filename, \"w\") as f3:\n",
    "        f3.write('#!/bin/bash \\n')\n",
    "        f3.write('#PBS -l walltime=10:00:00 \\n')\n",
    "        f3.write('#PBS -l mem=50GB \\n')\n",
    "        f3.write('#PBS -l ncpus=1 \\n')\n",
    "        f3.write('#PBS -l jobfs=1GB \\n')\n",
    "        f3.write('#PBS -l storage=gdata/hh5+gdata/er8+scratch/er8+gdata/rv74 \\n')\n",
    "        f3.write('#PBS -l other=hyperthread \\n')\n",
    "        f3.write('#PBS -q normal \\n')\n",
    "        f3.write('#PBS -P er8 \\n')\n",
    "        f3.write('##how to run with qsub -I interactive.qsub \\n')\n",
    "        f3.write('module use /g/data3/hh5/public/modules \\n')\n",
    "        f3.write('module load conda/analysis3 \\n')\n",
    "        f3.write('conda \\n')\n",
    "        f3.write(f'python3 /home/548/cd3022/aus-historical-solar-droughts/code/python/scripts/data-collect-tilting.py {start} {end} \\n')\n",
    "\n",
    "    # Submit the generated script to the job scheduler (PBS) using qsub\n",
    "    try:\n",
    "        # Run the qsub command and submit the script\n",
    "        subprocess.run(['qsub', job_script_filename], check=True)\n",
    "        print(f\"Job script {job_script_filename} submitted successfully.\")\n",
    "    except subprocess.CalledProcessError as e:\n",
    "        print(f\"Error submitting job script {job_script_filename}: {e}\")"
   ]
  },
  {
   "cell_type": "code",
   "execution_count": null,
   "id": "81a31b0f-f61f-46f6-bdfb-a017449c7662",
   "metadata": {},
   "outputs": [],
   "source": []
  }
 ],
 "metadata": {
  "kernelspec": {
   "display_name": "Python [conda env:base] *",
   "language": "python",
   "name": "conda-base-py"
  },
  "language_info": {
   "codemirror_mode": {
    "name": "ipython",
    "version": 3
   },
   "file_extension": ".py",
   "mimetype": "text/x-python",
   "name": "python",
   "nbconvert_exporter": "python",
   "pygments_lexer": "ipython3",
   "version": "3.10.14"
  }
 },
 "nbformat": 4,
 "nbformat_minor": 5
}
