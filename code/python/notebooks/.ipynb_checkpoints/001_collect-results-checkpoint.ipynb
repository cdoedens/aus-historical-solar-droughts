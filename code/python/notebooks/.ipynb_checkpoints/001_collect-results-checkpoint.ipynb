{
 "cells": [
  {
   "cell_type": "code",
   "execution_count": 1,
   "id": "288278f4-9966-4214-b484-850e42b1c5fd",
   "metadata": {},
   "outputs": [],
   "source": [
    "import sys\n",
    "sys.path.append('aus-historical-solar-droughts/code/python/scripts')\n",
    "import utils\n",
    "import subprocess\n",
    "from datetime import datetime, timedelta\n",
    "from dateutil.relativedelta import relativedelta"
   ]
  },
  {
   "cell_type": "code",
   "execution_count": null,
   "id": "8d75a9c2-375d-4a46-9120-8b2ac1563dfc",
   "metadata": {},
   "outputs": [],
   "source": [
    "script_to_run = 'NEM-droughts'"
   ]
  },
  {
   "cell_type": "code",
   "execution_count": 2,
   "id": "32f916a5-fd5d-451b-b0a9-c2ff1e40a265",
   "metadata": {},
   "outputs": [
    {
     "name": "stdout",
     "output_type": "stream",
     "text": [
      "01-01-2020        05-01-2020\n",
      "06-01-2020        10-01-2020\n",
      "11-01-2020        15-01-2020\n",
      "16-01-2020        20-01-2020\n",
      "21-01-2020        25-01-2020\n",
      "26-01-2020        30-01-2020\n"
     ]
    }
   ],
   "source": [
    "first = '1-1-2020'\n",
    "days_per_batch = 5\n",
    "num_batches = 6\n",
    "\n",
    "first_dt = datetime.strptime(first, \"%d-%m-%Y\")\n",
    "dates = []\n",
    "for x in range(num_batches):\n",
    "    start_dt = first_dt + relativedelta(days = days_per_batch * x)\n",
    "    start_date = start_dt.strftime(\"%d-%m-%Y\")\n",
    "    end_dt = start_dt + relativedelta(days = days_per_batch) - relativedelta(days=1)\n",
    "    end_date = end_dt.strftime(\"%d-%m-%Y\")\n",
    "    dates.append((start_date, end_date))\n",
    "    print(start_date, '      ', end_date)"
   ]
  },
  {
   "cell_type": "code",
   "execution_count": 3,
   "id": "5b7e4679-a467-43c2-bdea-5eeeb2710c00",
   "metadata": {},
   "outputs": [
    {
     "name": "stdout",
     "output_type": "stream",
     "text": [
      "137357286.gadi-pbs\n",
      "Job script /home/548/cd3022/aus-historical-solar-droughts/code/qsub/get-results___01-01-2020___05-01-2020.qsub submitted successfully.\n",
      "137357287.gadi-pbs\n",
      "Job script /home/548/cd3022/aus-historical-solar-droughts/code/qsub/get-results___06-01-2020___10-01-2020.qsub submitted successfully.\n",
      "137357288.gadi-pbs\n",
      "Job script /home/548/cd3022/aus-historical-solar-droughts/code/qsub/get-results___11-01-2020___15-01-2020.qsub submitted successfully.\n",
      "137357289.gadi-pbs\n",
      "Job script /home/548/cd3022/aus-historical-solar-droughts/code/qsub/get-results___16-01-2020___20-01-2020.qsub submitted successfully.\n",
      "137357290.gadi-pbs\n",
      "Job script /home/548/cd3022/aus-historical-solar-droughts/code/qsub/get-results___21-01-2020___25-01-2020.qsub submitted successfully.\n",
      "137357291.gadi-pbs\n",
      "Job script /home/548/cd3022/aus-historical-solar-droughts/code/qsub/get-results___26-01-2020___30-01-2020.qsub submitted successfully.\n"
     ]
    }
   ],
   "source": [
    "for start, end in dates:\n",
    "    \n",
    "    # Generate a unique file name based on iteration\n",
    "    joboutdir = '/home/548/cd3022/aus-historical-solar-droughts/code/qsub/'\n",
    "    job_script_filename = joboutdir + f'{script_to_run}___' + start + '___' + end + '.qsub'\n",
    "    \n",
    "    # Open the file for writing\n",
    "    with open(job_script_filename, \"w\") as f3:\n",
    "        f3.write('#!/bin/bash \\n')\n",
    "        f3.write('#PBS -l walltime=10:00:00 \\n')\n",
    "        f3.write('#PBS -l mem=50GB \\n')\n",
    "        f3.write('#PBS -l ncpus=1 \\n')\n",
    "        f3.write('#PBS -l jobfs=1GB \\n')\n",
    "        f3.write('#PBS -l storage=gdata/hh5+gdata/er8+scratch/er8+gdata/rv74 \\n')\n",
    "        f3.write('#PBS -l other=hyperthread \\n')\n",
    "        f3.write('#PBS -q normal \\n')\n",
    "        f3.write('#PBS -P er8 \\n')\n",
    "        f3.write('##how to run with qsub -I interactive.qsub \\n')\n",
    "        f3.write('module use /g/data3/hh5/public/modules \\n')\n",
    "        f3.write('module load conda/analysis3 \\n')\n",
    "        f3.write('conda \\n')\n",
    "        f3.write(f'python3 /home/548/cd3022/aus-historical-solar-droughts/code/python/scripts/{script_to_run}.py {start} {end} \\n')\n",
    "\n",
    "    # Submit the generated script to the job scheduler (PBS) using qsub\n",
    "    try:\n",
    "        # Run the qsub command and submit the script\n",
    "        subprocess.run(['qsub', job_script_filename], check=True)\n",
    "        print(f\"Job script {job_script_filename} submitted successfully.\")\n",
    "    except subprocess.CalledProcessError as e:\n",
    "        print(f\"Error submitting job script {job_script_filename}: {e}\")"
   ]
  },
  {
   "cell_type": "code",
   "execution_count": null,
   "id": "438b8fb9-521b-4e35-a2f1-f777609f2bd8",
   "metadata": {},
   "outputs": [],
   "source": []
  }
 ],
 "metadata": {
  "kernelspec": {
   "display_name": "Python [conda env:base] *",
   "language": "python",
   "name": "conda-base-py"
  },
  "language_info": {
   "codemirror_mode": {
    "name": "ipython",
    "version": 3
   },
   "file_extension": ".py",
   "mimetype": "text/x-python",
   "name": "python",
   "nbconvert_exporter": "python",
   "pygments_lexer": "ipython3",
   "version": "3.10.14"
  }
 },
 "nbformat": 4,
 "nbformat_minor": 5
}
