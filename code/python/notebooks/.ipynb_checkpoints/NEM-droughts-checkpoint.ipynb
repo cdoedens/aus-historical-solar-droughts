{
 "cells": [
  {
   "cell_type": "markdown",
   "id": "fa7b3652-40db-46e3-8a89-40319096eeb4",
   "metadata": {},
   "source": [
    "# Time series for aggregated area"
   ]
  },
  {
   "cell_type": "markdown",
   "id": "ab84168b-3870-4725-a22d-0dd6ab220707",
   "metadata": {},
   "source": [
    "Read himawari data, apply the solar PV model, and save the mean value for each time step.\n",
    "Hence, output is a 1D time series of PV generation"
   ]
  },
  {
   "cell_type": "code",
   "execution_count": 5,
   "id": "70ea292d-0822-4b83-b15e-880fecc39b22",
   "metadata": {},
   "outputs": [],
   "source": [
    "import sys\n",
    "#sys.path.append('/home/548/cd3022/aus-historical-solar-droughts/code/python/scripts')\n",
    "sys.path.append('/home/548/pag548/code/aus-historical-solar-droughts/code/python/scripts')\n",
    "import utils_V2\n",
    "import os\n",
    "\n",
    "from datetime import datetime, timedelta\n",
    "import pandas as pd\n",
    "import numpy as np\n",
    "import xarray as xr\n",
    "import pathlib"
   ]
  },
  {
   "cell_type": "code",
   "execution_count": 7,
   "id": "550ea7ef-f341-48d6-b79c-5d02e8c0eb33",
   "metadata": {},
   "outputs": [],
   "source": [
    "#start_date = sys.argv[1]\n",
    "#end_date = sys.argv[2]\n",
    "\n",
    "start_date = '1-2-2022'\n",
    "end_date = '2-2-2022'"
   ]
  },
  {
   "cell_type": "code",
   "execution_count": 9,
   "id": "f35d8488-089b-4a4e-abae-d2860247ba04",
   "metadata": {},
   "outputs": [],
   "source": [
    "# REZ mask\n",
    "#mask_file = \"/home/548/cd3022/aus-historical-solar-droughts/data/boundary_files/REZ_mask.npz\"\n",
    "mask_file = \"/home/548/pag548/code/aus-historical-solar-droughts/data/boundary_files/REZ_mask.npz\"\n",
    "loaded_mask = np.load(mask_file)\n",
    "mask = loaded_mask[\"mask\"]"
   ]
  },
  {
   "cell_type": "code",
   "execution_count": 10,
   "id": "10cd882a-457f-4000-92fe-16740410a91e",
   "metadata": {},
   "outputs": [],
   "source": [
    "start_dt = datetime.strptime(start_date, \"%d-%m-%Y\")\n",
    "end_dt = datetime.strptime(end_date, \"%d-%m-%Y\")\n",
    "\n",
    "# Generate a list of dates\n",
    "date_range = [start_dt + timedelta(days=i) for i in range((end_dt - start_dt).days + 1)]"
   ]
  },
  {
   "cell_type": "code",
   "execution_count": 12,
   "id": "a1063935-9b55-4c2f-9400-7b91b919668a",
   "metadata": {},
   "outputs": [
    {
     "ename": "OSError",
     "evalue": "no files to open",
     "output_type": "error",
     "traceback": [
      "\u001b[0;31m---------------------------------------------------------------------------\u001b[0m",
      "\u001b[0;31mOSError\u001b[0m                                   Traceback (most recent call last)",
      "Cell \u001b[0;32mIn[12], line 1\u001b[0m\n\u001b[0;32m----> 1\u001b[0m \u001b[43mget_ipython\u001b[49m\u001b[43m(\u001b[49m\u001b[43m)\u001b[49m\u001b[38;5;241;43m.\u001b[39;49m\u001b[43mrun_cell_magic\u001b[49m\u001b[43m(\u001b[49m\u001b[38;5;124;43m'\u001b[39;49m\u001b[38;5;124;43mtimeit\u001b[39;49m\u001b[38;5;124;43m'\u001b[39;49m\u001b[43m,\u001b[49m\u001b[43m \u001b[49m\u001b[38;5;124;43m'\u001b[39;49m\u001b[38;5;124;43m'\u001b[39;49m\u001b[43m,\u001b[49m\u001b[43m \u001b[49m\u001b[38;5;124;43m'\u001b[39;49m\u001b[38;5;124;43m# list for time series\u001b[39;49m\u001b[38;5;130;43;01m\\n\u001b[39;49;00m\u001b[38;5;124;43mNEM_performance = []\u001b[39;49m\u001b[38;5;130;43;01m\\n\u001b[39;49;00m\u001b[38;5;124;43m# loop through all files in date range\u001b[39;49m\u001b[38;5;130;43;01m\\n\u001b[39;49;00m\u001b[38;5;124;43mfor dir_dt in date_range:\u001b[39;49m\u001b[38;5;130;43;01m\\n\u001b[39;49;00m\u001b[38;5;130;43;01m\\n\u001b[39;49;00m\u001b[38;5;124;43m    dataset = utils_V2.get_irradiance_day(resolution=\u001b[39;49m\u001b[38;5;130;43;01m\\'\u001b[39;49;00m\u001b[38;5;124;43mp1s\u001b[39;49m\u001b[38;5;130;43;01m\\'\u001b[39;49;00m\u001b[38;5;124;43m, dir_dt=dir_dt)\u001b[39;49m\u001b[38;5;130;43;01m\\n\u001b[39;49;00m\u001b[38;5;130;43;01m\\n\u001b[39;49;00m\u001b[38;5;124;43m    # apply REZ mask to lat/lon coordinates\u001b[39;49m\u001b[38;5;130;43;01m\\n\u001b[39;49;00m\u001b[38;5;124;43m    mask_da = xr.DataArray(mask, coords=\u001b[39;49m\u001b[38;5;124;43m{\u001b[39;49m\u001b[38;5;124;43m\"\u001b[39;49m\u001b[38;5;124;43mlatitude\u001b[39;49m\u001b[38;5;124;43m\"\u001b[39;49m\u001b[38;5;124;43m: dataset.latitude, \u001b[39;49m\u001b[38;5;124;43m\"\u001b[39;49m\u001b[38;5;124;43mlongitude\u001b[39;49m\u001b[38;5;124;43m\"\u001b[39;49m\u001b[38;5;124;43m: dataset.longitude}, dims=[\u001b[39;49m\u001b[38;5;124;43m\"\u001b[39;49m\u001b[38;5;124;43mlatitude\u001b[39;49m\u001b[38;5;124;43m\"\u001b[39;49m\u001b[38;5;124;43m, \u001b[39;49m\u001b[38;5;124;43m\"\u001b[39;49m\u001b[38;5;124;43mlongitude\u001b[39;49m\u001b[38;5;124;43m\"\u001b[39;49m\u001b[38;5;124;43m])\u001b[39;49m\u001b[38;5;130;43;01m\\n\u001b[39;49;00m\u001b[38;5;124;43m    masked_ds = dataset.where(mask_da, drop=True)\u001b[39;49m\u001b[38;5;130;43;01m\\n\u001b[39;49;00m\u001b[38;5;130;43;01m\\n\u001b[39;49;00m\u001b[38;5;124;43m    # get irradiance data, ensuring to flatten and remove all unnecessary nan values\u001b[39;49m\u001b[38;5;130;43;01m\\n\u001b[39;49;00m\u001b[38;5;124;43m    ghi = masked_ds.surface_global_irradiance.values.ravel()\u001b[39;49m\u001b[38;5;130;43;01m\\n\u001b[39;49;00m\u001b[38;5;124;43m    dni = masked_ds.direct_normal_irradiance.values.ravel()\u001b[39;49m\u001b[38;5;130;43;01m\\n\u001b[39;49;00m\u001b[38;5;124;43m    dhi = masked_ds.surface_diffuse_irradiance.values.ravel()\u001b[39;49m\u001b[38;5;130;43;01m\\n\u001b[39;49;00m\u001b[38;5;124;43m    nan_mask = np.isnan(ghi) # same for all vars\u001b[39;49m\u001b[38;5;130;43;01m\\n\u001b[39;49;00m\u001b[38;5;124;43m    ghi_clean = ghi[~nan_mask]\u001b[39;49m\u001b[38;5;130;43;01m\\n\u001b[39;49;00m\u001b[38;5;124;43m    dni_clean = dni[~nan_mask]\u001b[39;49m\u001b[38;5;130;43;01m\\n\u001b[39;49;00m\u001b[38;5;124;43m    dhi_clean = dhi[~nan_mask]\u001b[39;49m\u001b[38;5;130;43;01m\\n\u001b[39;49;00m\u001b[38;5;130;43;01m\\n\u001b[39;49;00m\u001b[38;5;124;43m    # get correct time and coordinate data, so that it matches up with the remaining irradiance values\u001b[39;49m\u001b[38;5;130;43;01m\\n\u001b[39;49;00m\u001b[38;5;124;43m    lat_1d = masked_ds.latitude.values\u001b[39;49m\u001b[38;5;130;43;01m\\n\u001b[39;49;00m\u001b[38;5;124;43m    lon_1d = masked_ds.longitude.values\u001b[39;49m\u001b[38;5;130;43;01m\\n\u001b[39;49;00m\u001b[38;5;124;43m    lon_grid, lat_grid = np.meshgrid(lon_1d, lat_1d, indexing=\u001b[39;49m\u001b[38;5;124;43m\"\u001b[39;49m\u001b[38;5;124;43mxy\u001b[39;49m\u001b[38;5;124;43m\"\u001b[39;49m\u001b[38;5;124;43m)\u001b[39;49m\u001b[38;5;130;43;01m\\n\u001b[39;49;00m\u001b[38;5;124;43m    lat_grid_1d = lat_grid.ravel()\u001b[39;49m\u001b[38;5;130;43;01m\\n\u001b[39;49;00m\u001b[38;5;124;43m    lon_grid_1d = lon_grid.ravel()\u001b[39;49m\u001b[38;5;130;43;01m\\n\u001b[39;49;00m\u001b[38;5;124;43m    lat_1d_expanded = np.tile(lat_grid_1d, dataset.sizes[\u001b[39;49m\u001b[38;5;124;43m\"\u001b[39;49m\u001b[38;5;124;43mtime\u001b[39;49m\u001b[38;5;124;43m\"\u001b[39;49m\u001b[38;5;124;43m])  # Tile lat for all times\u001b[39;49m\u001b[38;5;130;43;01m\\n\u001b[39;49;00m\u001b[38;5;124;43m    lon_1d_expanded = np.tile(lon_grid_1d, dataset.sizes[\u001b[39;49m\u001b[38;5;124;43m\"\u001b[39;49m\u001b[38;5;124;43mtime\u001b[39;49m\u001b[38;5;124;43m\"\u001b[39;49m\u001b[38;5;124;43m])  # Tile lon for all times\u001b[39;49m\u001b[38;5;130;43;01m\\n\u001b[39;49;00m\u001b[38;5;124;43m    time_1d = np.repeat(masked_ds.time.values, len(lat_grid_1d))  # Repeat time for all lat/lon\u001b[39;49m\u001b[38;5;130;43;01m\\n\u001b[39;49;00m\u001b[38;5;124;43m    lat_1d_expanded_clean = lat_1d_expanded[~nan_mask]\u001b[39;49m\u001b[38;5;130;43;01m\\n\u001b[39;49;00m\u001b[38;5;124;43m    lon_1d_expanded_clean = lon_1d_expanded[~nan_mask]\u001b[39;49m\u001b[38;5;130;43;01m\\n\u001b[39;49;00m\u001b[38;5;124;43m    time_1d_clean = time_1d[~nan_mask]\u001b[39;49m\u001b[38;5;130;43;01m\\n\u001b[39;49;00m\u001b[38;5;130;43;01m\\n\u001b[39;49;00m\u001b[38;5;124;43m    dataset.close()\u001b[39;49m\u001b[38;5;130;43;01m\\n\u001b[39;49;00m\u001b[38;5;124;43m        \u001b[39;49m\u001b[38;5;130;43;01m\\n\u001b[39;49;00m\u001b[38;5;124;43m    # calculate capacity factors using pvlib\u001b[39;49m\u001b[38;5;130;43;01m\\n\u001b[39;49;00m\u001b[38;5;124;43m    # the function defined in utils_V2 is essentially the same as the workflow in pv-output-tilting.ipynb\u001b[39;49m\u001b[38;5;130;43;01m\\n\u001b[39;49;00m\u001b[38;5;124;43m    actual_ideal_ratio = utils_V2.tilting_panel_pr(\u001b[39;49m\u001b[38;5;130;43;01m\\n\u001b[39;49;00m\u001b[38;5;124;43m        pv_model = \u001b[39;49m\u001b[38;5;130;43;01m\\'\u001b[39;49;00m\u001b[38;5;124;43mCanadian_Solar_CS5P_220M___2009_\u001b[39;49m\u001b[38;5;130;43;01m\\'\u001b[39;49;00m\u001b[38;5;124;43m,\u001b[39;49m\u001b[38;5;130;43;01m\\n\u001b[39;49;00m\u001b[38;5;124;43m        inverter_model = \u001b[39;49m\u001b[38;5;130;43;01m\\'\u001b[39;49;00m\u001b[38;5;124;43mABB__MICRO_0_25_I_OUTD_US_208__208V_\u001b[39;49m\u001b[38;5;130;43;01m\\'\u001b[39;49;00m\u001b[38;5;124;43m,\u001b[39;49m\u001b[38;5;130;43;01m\\n\u001b[39;49;00m\u001b[38;5;124;43m        ghi=ghi_clean,\u001b[39;49m\u001b[38;5;130;43;01m\\n\u001b[39;49;00m\u001b[38;5;124;43m        dni=dni_clean,\u001b[39;49m\u001b[38;5;130;43;01m\\n\u001b[39;49;00m\u001b[38;5;124;43m        dhi=dhi_clean,\u001b[39;49m\u001b[38;5;130;43;01m\\n\u001b[39;49;00m\u001b[38;5;124;43m        time=time_1d_clean,\u001b[39;49m\u001b[38;5;130;43;01m\\n\u001b[39;49;00m\u001b[38;5;124;43m        lat=lat_1d_expanded_clean,\u001b[39;49m\u001b[38;5;130;43;01m\\n\u001b[39;49;00m\u001b[38;5;124;43m        lon=lon_1d_expanded_clean\u001b[39;49m\u001b[38;5;130;43;01m\\n\u001b[39;49;00m\u001b[38;5;124;43m    )  \u001b[39;49m\u001b[38;5;130;43;01m\\n\u001b[39;49;00m\u001b[38;5;130;43;01m\\n\u001b[39;49;00m\u001b[38;5;124;43m    # template to refit data to\u001b[39;49m\u001b[38;5;130;43;01m\\n\u001b[39;49;00m\u001b[38;5;124;43m    mask_template = masked_ds.surface_global_irradiance\u001b[39;49m\u001b[38;5;130;43;01m\\n\u001b[39;49;00m\u001b[38;5;124;43m    \u001b[39;49m\u001b[38;5;130;43;01m\\n\u001b[39;49;00m\u001b[38;5;124;43m    # Now need to get data back in line with coordinates\u001b[39;49m\u001b[38;5;130;43;01m\\n\u001b[39;49;00m\u001b[38;5;124;43m    # fill cf array with nan values so it can fit back into lat/lon coords\u001b[39;49m\u001b[38;5;130;43;01m\\n\u001b[39;49;00m\u001b[38;5;124;43m    filled = np.empty_like(ghi)\u001b[39;49m\u001b[38;5;130;43;01m\\n\u001b[39;49;00m\u001b[38;5;124;43m    # nan values outside the data\u001b[39;49m\u001b[38;5;130;43;01m\\n\u001b[39;49;00m\u001b[38;5;124;43m    filled[nan_mask] = np.nan\u001b[39;49m\u001b[38;5;130;43;01m\\n\u001b[39;49;00m\u001b[38;5;124;43m    # add the data to the same mask the input irradiance data was taken from\u001b[39;49m\u001b[38;5;130;43;01m\\n\u001b[39;49;00m\u001b[38;5;124;43m    filled[~nan_mask] = actual_ideal_ratio\u001b[39;49m\u001b[38;5;130;43;01m\\n\u001b[39;49;00m\u001b[38;5;124;43m    # convert data back into 3D xarray\u001b[39;49m\u001b[38;5;130;43;01m\\n\u001b[39;49;00m\u001b[38;5;124;43m    reshaped = filled.reshape(mask_template.shape)\u001b[39;49m\u001b[38;5;130;43;01m\\n\u001b[39;49;00m\u001b[38;5;124;43m    ratio_da = xr.DataArray(reshaped, coords=mask_template.coords, dims=mask_template.dims)\u001b[39;49m\u001b[38;5;130;43;01m\\n\u001b[39;49;00m\u001b[38;5;130;43;01m\\n\u001b[39;49;00m\u001b[38;5;124;43m    # get mean for each time slice and add it to the list\u001b[39;49m\u001b[38;5;130;43;01m\\n\u001b[39;49;00m\u001b[38;5;124;43m    mean_daily = ratio_da.mean(dim=[\u001b[39;49m\u001b[38;5;124;43m\"\u001b[39;49m\u001b[38;5;124;43mlatitude\u001b[39;49m\u001b[38;5;124;43m\"\u001b[39;49m\u001b[38;5;124;43m, \u001b[39;49m\u001b[38;5;124;43m\"\u001b[39;49m\u001b[38;5;124;43mlongitude\u001b[39;49m\u001b[38;5;124;43m\"\u001b[39;49m\u001b[38;5;124;43m], skipna=True)\u001b[39;49m\u001b[38;5;130;43;01m\\n\u001b[39;49;00m\u001b[38;5;124;43m    NEM_performance.append(mean_daily)\u001b[39;49m\u001b[38;5;130;43;01m\\n\u001b[39;49;00m\u001b[38;5;124;43m'\u001b[39;49m\u001b[43m)\u001b[49m\n",
      "File \u001b[0;32m/g/data/hh5/public/apps/miniconda3/envs/analysis3-24.04/lib/python3.10/site-packages/IPython/core/interactiveshell.py:2541\u001b[0m, in \u001b[0;36mInteractiveShell.run_cell_magic\u001b[0;34m(self, magic_name, line, cell)\u001b[0m\n\u001b[1;32m   2539\u001b[0m \u001b[38;5;28;01mwith\u001b[39;00m \u001b[38;5;28mself\u001b[39m\u001b[38;5;241m.\u001b[39mbuiltin_trap:\n\u001b[1;32m   2540\u001b[0m     args \u001b[38;5;241m=\u001b[39m (magic_arg_s, cell)\n\u001b[0;32m-> 2541\u001b[0m     result \u001b[38;5;241m=\u001b[39m \u001b[43mfn\u001b[49m\u001b[43m(\u001b[49m\u001b[38;5;241;43m*\u001b[39;49m\u001b[43margs\u001b[49m\u001b[43m,\u001b[49m\u001b[43m \u001b[49m\u001b[38;5;241;43m*\u001b[39;49m\u001b[38;5;241;43m*\u001b[39;49m\u001b[43mkwargs\u001b[49m\u001b[43m)\u001b[49m\n\u001b[1;32m   2543\u001b[0m \u001b[38;5;66;03m# The code below prevents the output from being displayed\u001b[39;00m\n\u001b[1;32m   2544\u001b[0m \u001b[38;5;66;03m# when using magics with decorator @output_can_be_silenced\u001b[39;00m\n\u001b[1;32m   2545\u001b[0m \u001b[38;5;66;03m# when the last Python token in the expression is a ';'.\u001b[39;00m\n\u001b[1;32m   2546\u001b[0m \u001b[38;5;28;01mif\u001b[39;00m \u001b[38;5;28mgetattr\u001b[39m(fn, magic\u001b[38;5;241m.\u001b[39mMAGIC_OUTPUT_CAN_BE_SILENCED, \u001b[38;5;28;01mFalse\u001b[39;00m):\n",
      "File \u001b[0;32m/g/data/hh5/public/apps/miniconda3/envs/analysis3-24.04/lib/python3.10/site-packages/IPython/core/magics/execution.py:1185\u001b[0m, in \u001b[0;36mExecutionMagics.timeit\u001b[0;34m(self, line, cell, local_ns)\u001b[0m\n\u001b[1;32m   1183\u001b[0m \u001b[38;5;28;01mfor\u001b[39;00m index \u001b[38;5;129;01min\u001b[39;00m \u001b[38;5;28mrange\u001b[39m(\u001b[38;5;241m0\u001b[39m, \u001b[38;5;241m10\u001b[39m):\n\u001b[1;32m   1184\u001b[0m     number \u001b[38;5;241m=\u001b[39m \u001b[38;5;241m10\u001b[39m \u001b[38;5;241m*\u001b[39m\u001b[38;5;241m*\u001b[39m index\n\u001b[0;32m-> 1185\u001b[0m     time_number \u001b[38;5;241m=\u001b[39m \u001b[43mtimer\u001b[49m\u001b[38;5;241;43m.\u001b[39;49m\u001b[43mtimeit\u001b[49m\u001b[43m(\u001b[49m\u001b[43mnumber\u001b[49m\u001b[43m)\u001b[49m\n\u001b[1;32m   1186\u001b[0m     \u001b[38;5;28;01mif\u001b[39;00m time_number \u001b[38;5;241m>\u001b[39m\u001b[38;5;241m=\u001b[39m \u001b[38;5;241m0.2\u001b[39m:\n\u001b[1;32m   1187\u001b[0m         \u001b[38;5;28;01mbreak\u001b[39;00m\n",
      "File \u001b[0;32m/g/data/hh5/public/apps/miniconda3/envs/analysis3-24.04/lib/python3.10/site-packages/IPython/core/magics/execution.py:173\u001b[0m, in \u001b[0;36mTimer.timeit\u001b[0;34m(self, number)\u001b[0m\n\u001b[1;32m    171\u001b[0m gc\u001b[38;5;241m.\u001b[39mdisable()\n\u001b[1;32m    172\u001b[0m \u001b[38;5;28;01mtry\u001b[39;00m:\n\u001b[0;32m--> 173\u001b[0m     timing \u001b[38;5;241m=\u001b[39m \u001b[38;5;28;43mself\u001b[39;49m\u001b[38;5;241;43m.\u001b[39;49m\u001b[43minner\u001b[49m\u001b[43m(\u001b[49m\u001b[43mit\u001b[49m\u001b[43m,\u001b[49m\u001b[43m \u001b[49m\u001b[38;5;28;43mself\u001b[39;49m\u001b[38;5;241;43m.\u001b[39;49m\u001b[43mtimer\u001b[49m\u001b[43m)\u001b[49m\n\u001b[1;32m    174\u001b[0m \u001b[38;5;28;01mfinally\u001b[39;00m:\n\u001b[1;32m    175\u001b[0m     \u001b[38;5;28;01mif\u001b[39;00m gcold:\n",
      "File \u001b[0;32m<magic-timeit>:6\u001b[0m, in \u001b[0;36minner\u001b[0;34m(_it, _timer)\u001b[0m\n",
      "File \u001b[0;32m~/code/aus-historical-solar-droughts/code/python/scripts/utils_V2.py:42\u001b[0m, in \u001b[0;36mget_irradiance_day\u001b[0;34m(resolution, dir_dt)\u001b[0m\n\u001b[1;32m     39\u001b[0m dirin\u001b[38;5;241m=\u001b[39m\u001b[38;5;124mf\u001b[39m\u001b[38;5;124m'\u001b[39m\u001b[38;5;124m/g/data/rv74/satellite-products/arc/der/himawari-ahi/solar/\u001b[39m\u001b[38;5;132;01m{\u001b[39;00mresolution\u001b[38;5;132;01m}\u001b[39;00m\u001b[38;5;124m/\u001b[39m\u001b[38;5;132;01m{\u001b[39;00mver\u001b[38;5;132;01m}\u001b[39;00m\u001b[38;5;124m/\u001b[39m\u001b[38;5;124m'\u001b[39m\u001b[38;5;241m+\u001b[39m\u001b[38;5;124mf\u001b[39m\u001b[38;5;124m\"\u001b[39m\u001b[38;5;132;01m{\u001b[39;00mdir_dt\u001b[38;5;241m.\u001b[39myear\u001b[38;5;132;01m:\u001b[39;00m\u001b[38;5;124m04\u001b[39m\u001b[38;5;132;01m}\u001b[39;00m\u001b[38;5;124m\"\u001b[39m\u001b[38;5;241m+\u001b[39m\u001b[38;5;124m'\u001b[39m\u001b[38;5;124m/\u001b[39m\u001b[38;5;124m'\u001b[39m\u001b[38;5;241m+\u001b[39m\u001b[38;5;124mf\u001b[39m\u001b[38;5;124m\"\u001b[39m\u001b[38;5;132;01m{\u001b[39;00mdir_dt\u001b[38;5;241m.\u001b[39mmonth\u001b[38;5;132;01m:\u001b[39;00m\u001b[38;5;124m02\u001b[39m\u001b[38;5;132;01m}\u001b[39;00m\u001b[38;5;124m\"\u001b[39m\u001b[38;5;241m+\u001b[39m\u001b[38;5;124m'\u001b[39m\u001b[38;5;124m/\u001b[39m\u001b[38;5;124m'\u001b[39m\u001b[38;5;241m+\u001b[39m\u001b[38;5;124mf\u001b[39m\u001b[38;5;124m\"\u001b[39m\u001b[38;5;132;01m{\u001b[39;00mdir_dt\u001b[38;5;241m.\u001b[39mday\u001b[38;5;132;01m:\u001b[39;00m\u001b[38;5;124m02\u001b[39m\u001b[38;5;132;01m}\u001b[39;00m\u001b[38;5;124m\"\u001b[39m\u001b[38;5;241m+\u001b[39m\u001b[38;5;124m\"\u001b[39m\u001b[38;5;124m/\u001b[39m\u001b[38;5;124m\"\u001b[39m\n\u001b[1;32m     41\u001b[0m files \u001b[38;5;241m=\u001b[39m \u001b[38;5;124mf\u001b[39m\u001b[38;5;124m'\u001b[39m\u001b[38;5;132;01m{\u001b[39;00mdirin\u001b[38;5;132;01m}\u001b[39;00m\u001b[38;5;124m/*.nc\u001b[39m\u001b[38;5;124m'\u001b[39m\n\u001b[0;32m---> 42\u001b[0m daily_data \u001b[38;5;241m=\u001b[39m \u001b[43mxr\u001b[49m\u001b[38;5;241;43m.\u001b[39;49m\u001b[43mopen_mfdataset\u001b[49m\u001b[43m(\u001b[49m\u001b[43mfiles\u001b[49m\u001b[43m,\u001b[49m\u001b[43m \u001b[49m\u001b[43mcombine\u001b[49m\u001b[38;5;241;43m=\u001b[39;49m\u001b[38;5;124;43m\"\u001b[39;49m\u001b[38;5;124;43mby_coords\u001b[39;49m\u001b[38;5;124;43m\"\u001b[39;49m\u001b[43m)\u001b[49m\n\u001b[1;32m     43\u001b[0m \u001b[38;5;28;01mreturn\u001b[39;00m daily_data\n",
      "File \u001b[0;32m/g/data/hh5/public/apps/miniconda3/envs/analysis3-24.04/lib/python3.10/site-packages/xarray/backends/api.py:1019\u001b[0m, in \u001b[0;36mopen_mfdataset\u001b[0;34m(paths, chunks, concat_dim, compat, preprocess, engine, data_vars, coords, combine, parallel, join, attrs_file, combine_attrs, **kwargs)\u001b[0m\n\u001b[1;32m   1016\u001b[0m paths \u001b[38;5;241m=\u001b[39m _find_absolute_paths(paths, engine\u001b[38;5;241m=\u001b[39mengine, \u001b[38;5;241m*\u001b[39m\u001b[38;5;241m*\u001b[39mkwargs)\n\u001b[1;32m   1018\u001b[0m \u001b[38;5;28;01mif\u001b[39;00m \u001b[38;5;129;01mnot\u001b[39;00m paths:\n\u001b[0;32m-> 1019\u001b[0m     \u001b[38;5;28;01mraise\u001b[39;00m \u001b[38;5;167;01mOSError\u001b[39;00m(\u001b[38;5;124m\"\u001b[39m\u001b[38;5;124mno files to open\u001b[39m\u001b[38;5;124m\"\u001b[39m)\n\u001b[1;32m   1021\u001b[0m \u001b[38;5;28;01mif\u001b[39;00m combine \u001b[38;5;241m==\u001b[39m \u001b[38;5;124m\"\u001b[39m\u001b[38;5;124mnested\u001b[39m\u001b[38;5;124m\"\u001b[39m:\n\u001b[1;32m   1022\u001b[0m     \u001b[38;5;28;01mif\u001b[39;00m \u001b[38;5;28misinstance\u001b[39m(concat_dim, (\u001b[38;5;28mstr\u001b[39m, DataArray)) \u001b[38;5;129;01mor\u001b[39;00m concat_dim \u001b[38;5;129;01mis\u001b[39;00m \u001b[38;5;28;01mNone\u001b[39;00m:\n",
      "\u001b[0;31mOSError\u001b[0m: no files to open"
     ]
    }
   ],
   "source": [
    "%%timeit\n",
    "# list for time series\n",
    "NEM_performance = []\n",
    "# loop through all files in date range\n",
    "for dir_dt in date_range:\n",
    "\n",
    "    dataset = utils_V2.get_irradiance_day(resolution='p1s', dir_dt=dir_dt)\n",
    "\n",
    "    # apply REZ mask to lat/lon coordinates\n",
    "    mask_da = xr.DataArray(mask, coords={\"latitude\": dataset.latitude, \"longitude\": dataset.longitude}, dims=[\"latitude\", \"longitude\"])\n",
    "    masked_ds = dataset.where(mask_da, drop=True)\n",
    "\n",
    "    # get irradiance data, ensuring to flatten and remove all unnecessary nan values\n",
    "    ghi = masked_ds.surface_global_irradiance.values.ravel()\n",
    "    dni = masked_ds.direct_normal_irradiance.values.ravel()\n",
    "    dhi = masked_ds.surface_diffuse_irradiance.values.ravel()\n",
    "    nan_mask = np.isnan(ghi) # same for all vars\n",
    "    ghi_clean = ghi[~nan_mask]\n",
    "    dni_clean = dni[~nan_mask]\n",
    "    dhi_clean = dhi[~nan_mask]\n",
    "\n",
    "    # get correct time and coordinate data, so that it matches up with the remaining irradiance values\n",
    "    lat_1d = masked_ds.latitude.values\n",
    "    lon_1d = masked_ds.longitude.values\n",
    "    lon_grid, lat_grid = np.meshgrid(lon_1d, lat_1d, indexing=\"xy\")\n",
    "    lat_grid_1d = lat_grid.ravel()\n",
    "    lon_grid_1d = lon_grid.ravel()\n",
    "    lat_1d_expanded = np.tile(lat_grid_1d, dataset.sizes[\"time\"])  # Tile lat for all times\n",
    "    lon_1d_expanded = np.tile(lon_grid_1d, dataset.sizes[\"time\"])  # Tile lon for all times\n",
    "    time_1d = np.repeat(masked_ds.time.values, len(lat_grid_1d))  # Repeat time for all lat/lon\n",
    "    lat_1d_expanded_clean = lat_1d_expanded[~nan_mask]\n",
    "    lon_1d_expanded_clean = lon_1d_expanded[~nan_mask]\n",
    "    time_1d_clean = time_1d[~nan_mask]\n",
    "\n",
    "    dataset.close()\n",
    "        \n",
    "    # calculate capacity factors using pvlib\n",
    "    # the function defined in utils_V2 is essentially the same as the workflow in pv-output-tilting.ipynb\n",
    "    actual_ideal_ratio = utils_V2.tilting_panel_pr(\n",
    "        pv_model = 'Canadian_Solar_CS5P_220M___2009_',\n",
    "        inverter_model = 'ABB__MICRO_0_25_I_OUTD_US_208__208V_',\n",
    "        ghi=ghi_clean,\n",
    "        dni=dni_clean,\n",
    "        dhi=dhi_clean,\n",
    "        time=time_1d_clean,\n",
    "        lat=lat_1d_expanded_clean,\n",
    "        lon=lon_1d_expanded_clean\n",
    "    )  \n",
    "\n",
    "    # template to refit data to\n",
    "    mask_template = masked_ds.surface_global_irradiance\n",
    "    \n",
    "    # Now need to get data back in line with coordinates\n",
    "    # fill cf array with nan values so it can fit back into lat/lon coords\n",
    "    filled = np.empty_like(ghi)\n",
    "    # nan values outside the data\n",
    "    filled[nan_mask] = np.nan\n",
    "    # add the data to the same mask the input irradiance data was taken from\n",
    "    filled[~nan_mask] = actual_ideal_ratio\n",
    "    # convert data back into 3D xarray\n",
    "    reshaped = filled.reshape(mask_template.shape)\n",
    "    ratio_da = xr.DataArray(reshaped, coords=mask_template.coords, dims=mask_template.dims)\n",
    "\n",
    "    # get mean for each time slice and add it to the list\n",
    "    mean_daily = ratio_da.mean(dim=[\"latitude\", \"longitude\"], skipna=True)\n",
    "    NEM_performance.append(mean_daily)"
   ]
  },
  {
   "cell_type": "code",
   "execution_count": 15,
   "id": "2771af3c-d9f7-4f53-b87b-a7050fa6b8b7",
   "metadata": {},
   "outputs": [],
   "source": [
    "NEM_performance_timeseries = xr.concat(NEM_performance, dim='time')"
   ]
  },
  {
   "cell_type": "code",
   "execution_count": 17,
   "id": "17270c28-8f98-4093-9139-3b68942a2f41",
   "metadata": {},
   "outputs": [],
   "source": [
    "file_path = '/g/data/er8/users/cd3022/solar_drought/REZ_tilting/ideal_ratio/NEM_timeseries'\n",
    "os.makedirs(file_path, exist_ok=True)\n",
    "NEM_performance_timeseries.to_netcdf(f'{file_path}/{start_date}___{end_date}.nc')"
   ]
  },
  {
   "cell_type": "code",
   "execution_count": 1,
   "id": "6331db21-f390-4edf-b464-fa2f213dba9c",
   "metadata": {},
   "outputs": [
    {
     "name": "stdout",
     "output_type": "stream",
     "text": [
      "[NbConvertApp] Converting notebook /home/548/cd3022/aus-historical-solar-droughts/code/python/notebooks/NEM-droughts.ipynb to script\n",
      "[NbConvertApp] Writing 4411 bytes to /home/548/cd3022/aus-historical-solar-droughts/code/python/scripts/NEM-droughts.py\n"
     ]
    }
   ],
   "source": [
    "if __name__ == '__main__':\n",
    "    \n",
    "    NOTEBOOK_PATH=\"/home/548/cd3022/aus-historical-solar-droughts/code/python/notebooks/NEM-droughts.ipynb\"\n",
    "    SCRIPT_PATH=\"/home/548/cd3022/aus-historical-solar-droughts/code/python/scripts/NEM-droughts\"\n",
    "    \n",
    "    !jupyter nbconvert --to script {NOTEBOOK_PATH} --output {SCRIPT_PATH}"
   ]
  }
 ],
 "metadata": {
  "kernelspec": {
   "display_name": "analysis3-24.04",
   "language": "python",
   "name": "python3"
  },
  "language_info": {
   "codemirror_mode": {
    "name": "ipython",
    "version": 3
   },
   "file_extension": ".py",
   "mimetype": "text/x-python",
   "name": "python",
   "nbconvert_exporter": "python",
   "pygments_lexer": "ipython3",
   "version": "3.10.14"
  }
 },
 "nbformat": 4,
 "nbformat_minor": 5
}
