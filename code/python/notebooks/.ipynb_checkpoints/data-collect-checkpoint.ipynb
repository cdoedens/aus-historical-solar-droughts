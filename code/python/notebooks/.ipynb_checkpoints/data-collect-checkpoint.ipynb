{
 "cells": [
  {
   "cell_type": "code",
   "execution_count": 2,
   "id": "45f0034d-971d-4151-98f7-85d976a804fd",
   "metadata": {},
   "outputs": [],
   "source": [
    "import sys\n",
    "sys.path.append('/home/548/cd3022/code/python/scripts')\n",
    "import utils\n",
    "import subprocess"
   ]
  },
  {
   "cell_type": "code",
   "execution_count": 2,
   "id": "e54f3fd5-1063-4a58-884f-adeb1783bf8b",
   "metadata": {},
   "outputs": [
    {
     "name": "stdout",
     "output_type": "stream",
     "text": [
      "Environment: base\n",
      "Current working directory: /home/548/cd3022\n"
     ]
    }
   ],
   "source": [
    "import os\n",
    "print(\"Environment:\", os.environ.get('CONDA_DEFAULT_ENV'))\n",
    "print(\"Current working directory:\", os.getcwd())"
   ]
  },
  {
   "cell_type": "code",
   "execution_count": 3,
   "id": "550ea7ef-f341-48d6-b79c-5d02e8c0eb33",
   "metadata": {},
   "outputs": [
    {
     "name": "stdout",
     "output_type": "stream",
     "text": [
      "args read in 006_data-collect.py\n"
     ]
    }
   ],
   "source": [
    "# System arg values\n",
    "start_date = sys.argv[1]\n",
    "end_date = sys.argv[2]\n",
    "print('args read in 006_data-collect.py')"
   ]
  },
  {
   "cell_type": "code",
   "execution_count": 4,
   "id": "e66289ee-3b80-4a3f-b4e5-6edbdf2991e5",
   "metadata": {},
   "outputs": [
    {
     "name": "stdout",
     "output_type": "stream",
     "text": [
      "read_irradiance complete\n"
     ]
    }
   ],
   "source": [
    "rad_df = utils.read_irradiance(\n",
    "    start_date=start_date,\n",
    "    end_date=end_date\n",
    ")\n",
    "print('read_irradiance complete')"
   ]
  },
  {
   "cell_type": "code",
   "execution_count": 5,
   "id": "ba221b7e-6ca8-4d28-bf8b-160d81d90b2a",
   "metadata": {},
   "outputs": [
    {
     "name": "stdout",
     "output_type": "stream",
     "text": [
      "data saved\n"
     ]
    }
   ],
   "source": [
    "rad_df.to_pickle(f'/g/data/er8/users/cd3022/solar_drought/seasonal_daily_means/{start_date}_{end_date}.pkl')\n",
    "print('data saved')"
   ]
  },
  {
   "cell_type": "code",
   "execution_count": 6,
   "id": "6331db21-f390-4edf-b464-fa2f213dba9c",
   "metadata": {},
   "outputs": [
    {
     "name": "stdout",
     "output_type": "stream",
     "text": [
      "[NbConvertApp] Converting notebook /home/548/cd3022/code/python/notebooks/006_data-collect.ipynb to script\n",
      "[NbConvertApp] Writing 928 bytes to /home/548/cd3022/code/python/scripts/006_data-collect.py\n"
     ]
    }
   ],
   "source": [
    "if __name__ == '__main__':\n",
    "    \n",
    "    NOTEBOOK_PATH=\"/home/548/cd3022/code/python/notebooks/006_data-collect.ipynb\"\n",
    "    SCRIPT_PATH=\"/home/548/cd3022/code/python/scripts/006_data-collect\"\n",
    "    \n",
    "    !jupyter nbconvert --to script {NOTEBOOK_PATH} --output {SCRIPT_PATH}"
   ]
  }
 ],
 "metadata": {
  "kernelspec": {
   "display_name": "Python [conda env:base] *",
   "language": "python",
   "name": "conda-base-py"
  },
  "language_info": {
   "codemirror_mode": {
    "name": "ipython",
    "version": 3
   },
   "file_extension": ".py",
   "mimetype": "text/x-python",
   "name": "python",
   "nbconvert_exporter": "python",
   "pygments_lexer": "ipython3",
   "version": "3.10.14"
  }
 },
 "nbformat": 4,
 "nbformat_minor": 5
}
