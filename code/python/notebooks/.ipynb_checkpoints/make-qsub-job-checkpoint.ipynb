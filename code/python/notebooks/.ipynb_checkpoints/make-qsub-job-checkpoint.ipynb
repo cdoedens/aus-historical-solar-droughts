{
 "cells": [
  {
   "cell_type": "code",
   "execution_count": 1,
   "id": "288278f4-9966-4214-b484-850e42b1c5fd",
   "metadata": {},
   "outputs": [],
   "source": [
    "import subprocess\n",
    "from datetime import datetime, timedelta\n",
    "from dateutil.relativedelta import relativedelta"
   ]
  },
  {
   "cell_type": "markdown",
   "id": "5bd89d8c-e6a3-40ed-b017-1e4d3c522728",
   "metadata": {},
   "source": [
    "Valid regions:\n",
    "- REZ\n",
    "  - V\n",
    "  - N\n",
    "  - S\n",
    "  - T\n",
    "  - Q\n",
    "\n",
    "Valid variables:\n",
    "- ideal_generation\n",
    "- capacity_factor"
   ]
  },
  {
   "cell_type": "code",
   "execution_count": 2,
   "id": "c467b0e0-acaa-498d-bd67-9946afe83a62",
   "metadata": {},
   "outputs": [],
   "source": [
    "script_to_run = 'CONCURRENT-FUTURES-SOLAR'\n",
    "\n",
    "region = 'REZ_V'\n",
    "var = 'clear_sky_generation'\n",
    "first = '7-7-2015'\n",
    "months_per_batch = 1\n",
    "num_batches = 6\n",
    "\n",
    "first_dt = datetime.strptime(first, \"%d-%m-%Y\")\n",
    "dates = []\n",
    "for x in range(num_batches):\n",
    "    start_dt = first_dt + relativedelta(months = months_per_batch * x)\n",
    "    start_date = start_dt.strftime(\"%d-%m-%Y\")\n",
    "    end_dt = start_dt + relativedelta(months = months_per_batch) - relativedelta(days=1)\n",
    "    end_date = end_dt.strftime(\"%d-%m-%Y\")\n",
    "    dates.append((start_date, end_date))"
   ]
  },
  {
   "cell_type": "code",
   "execution_count": 3,
   "id": "5b7e4679-a467-43c2-bdea-5eeeb2710c00",
   "metadata": {},
   "outputs": [
    {
     "name": "stdout",
     "output_type": "stream",
     "text": [
      "139146081.gadi-pbs\n",
      "Job script /home/548/cd3022/aus-historical-solar-droughts/code/qsub/CONCURRENT-FUTURES-SOLAR___07-07-2015.qsub submitted successfully.\n",
      "139146082.gadi-pbs\n",
      "Job script /home/548/cd3022/aus-historical-solar-droughts/code/qsub/CONCURRENT-FUTURES-SOLAR___07-08-2015.qsub submitted successfully.\n",
      "139146083.gadi-pbs\n",
      "Job script /home/548/cd3022/aus-historical-solar-droughts/code/qsub/CONCURRENT-FUTURES-SOLAR___07-09-2015.qsub submitted successfully.\n",
      "139146084.gadi-pbs\n",
      "Job script /home/548/cd3022/aus-historical-solar-droughts/code/qsub/CONCURRENT-FUTURES-SOLAR___07-10-2015.qsub submitted successfully.\n",
      "139146085.gadi-pbs\n",
      "Job script /home/548/cd3022/aus-historical-solar-droughts/code/qsub/CONCURRENT-FUTURES-SOLAR___07-11-2015.qsub submitted successfully.\n",
      "139146086.gadi-pbs\n",
      "Job script /home/548/cd3022/aus-historical-solar-droughts/code/qsub/CONCURRENT-FUTURES-SOLAR___07-12-2015.qsub submitted successfully.\n"
     ]
    }
   ],
   "source": [
    "if region[1].upper() == 'ALL':\n",
    "    ncpus = 13\n",
    "else:\n",
    "    ncpus = 48\n",
    "for start, end in dates:\n",
    "    \n",
    "    # Generate a unique file name based on iteration\n",
    "    joboutdir = '/home/548/cd3022/aus-historical-solar-droughts/code/qsub/'\n",
    "    job_script_filename = joboutdir + f'{script_to_run}___' + start + '.qsub'\n",
    "    \n",
    "    # Open the file for writing\n",
    "    with open(job_script_filename, \"w\") as f3:\n",
    "        f3.write('#!/bin/bash \\n')\n",
    "        f3.write('#PBS -l walltime=1:00:00 \\n')\n",
    "        f3.write('#PBS -l mem=192GB \\n')\n",
    "        f3.write(f'#PBS -l ncpus={ncpus} \\n')\n",
    "        f3.write('#PBS -l jobfs=10GB \\n')\n",
    "        f3.write('#PBS -l storage=gdata/hh5+gdata/er8+scratch/er8+gdata/rv74 \\n')\n",
    "        f3.write('#PBS -l other=hyperthread \\n')\n",
    "        f3.write('#PBS -q normal \\n')\n",
    "        f3.write('#PBS -P er8 \\n')\n",
    "        f3.write(f'#PBS -o /home/548/cd3022/aus-historical-solar-droughts/logs/{script_to_run}_{var}_{region}_{start}.oe \\n')\n",
    "        f3.write('#PBS -j oe \\n')\n",
    "        f3.write('module use /g/data3/hh5/public/modules \\n')\n",
    "        f3.write('module load conda/analysis3 \\n')\n",
    "        f3.write('conda \\n')\n",
    "        f3.write(f'python3 /home/548/cd3022/aus-historical-solar-droughts/code/python/scripts/{script_to_run}.py {start} {end} {region} {var}\\n')\n",
    "\n",
    "\n",
    "    # Submit the generated script to the job scheduler (PBS) using qsub\n",
    "    try:\n",
    "        # Run the qsub command and submit the script\n",
    "        subprocess.run(['qsub', job_script_filename], check=True)\n",
    "        print(f\"Job script {job_script_filename} submitted successfully.\")\n",
    "    except subprocess.CalledProcessError as e:\n",
    "        print(f\"Error submitting job script {job_script_filename}: {e}\")"
   ]
  },
  {
   "cell_type": "code",
   "execution_count": null,
   "id": "438b8fb9-521b-4e35-a2f1-f777609f2bd8",
   "metadata": {},
   "outputs": [],
   "source": []
  }
 ],
 "metadata": {
  "kernelspec": {
   "display_name": "Python [conda env:base] *",
   "language": "python",
   "name": "conda-base-py"
  },
  "language_info": {
   "codemirror_mode": {
    "name": "ipython",
    "version": 3
   },
   "file_extension": ".py",
   "mimetype": "text/x-python",
   "name": "python",
   "nbconvert_exporter": "python",
   "pygments_lexer": "ipython3",
   "version": "3.10.14"
  }
 },
 "nbformat": 4,
 "nbformat_minor": 5
}
