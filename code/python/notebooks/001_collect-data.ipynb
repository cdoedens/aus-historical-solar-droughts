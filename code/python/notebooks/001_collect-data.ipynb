{
 "cells": [
  {
   "cell_type": "code",
   "execution_count": 1,
   "id": "288278f4-9966-4214-b484-850e42b1c5fd",
   "metadata": {},
   "outputs": [],
   "source": [
    "import sys\n",
    "sys.path.append('aus-historical-solar-droughts/code/python/scripts')\n",
    "import utils\n",
    "import subprocess"
   ]
  },
  {
   "cell_type": "code",
   "execution_count": 2,
   "id": "5b7e4679-a467-43c2-bdea-5eeeb2710c00",
   "metadata": {},
   "outputs": [
    {
     "name": "stdout",
     "output_type": "stream",
     "text": [
      "135420307.gadi-pbs\n",
      "Job script /home/548/cd3022/aus-historical-solar-droughts/code/qsub/run_all_jobs1-3-2024_31-5-2024.qsub submitted successfully.\n",
      "135420310.gadi-pbs\n",
      "Job script /home/548/cd3022/aus-historical-solar-droughts/code/qsub/run_all_jobs1-6-2024_31-8-2024.qsub submitted successfully.\n"
     ]
    }
   ],
   "source": [
    "joboutdir = \"/home/548/cd3022/aus-historical-solar-droughts/code/qsub/\"\n",
    "\n",
    "seasons = [\n",
    "    # ('7-7-2015', '31-8-2015'), # Winter 2015\n",
    "    # ('1-9-2015', '30-11-2015'), # Spring 2015\n",
    "    # ('1-12-2015', '29-2-2016'), # Summer 2015/2016\n",
    "    # ('1-3-2016', '31-5-2016'), # Autumn 2016\n",
    "    # ('1-6-2016', '31-8-2016'), # Winter 2016\n",
    "    # ('1-9-2016', '30-11-2016'), # Spring 2016\n",
    "    # ('1-12-2016', '28-2-2017'), # Summer 2016/2017\n",
    "    # ('1-3-2017', '31-5-2017'), \n",
    "    # ('1-6-2017', '31-8-2017'), \n",
    "    # ('1-9-2017', '30-11-2017'),\n",
    "    # ('1-12-2017', '28-2-2018'),\n",
    "    # ('1-3-2018', '31-5-2018'),\n",
    "    # ('1-6-2018', '31-8-2018'),\n",
    "    # ('1-9-2018', '30-11-2018'),\n",
    "    # ('1-12-2018', '28-2-2019'),    \n",
    "    # ('1-3-2019', '31-5-2019'),\n",
    "    # ('1-6-2019', '31-8-2019'),\n",
    "    # ('1-9-2019', '30-11-2019'),\n",
    "    # ('1-12-2019', '29-2-2020'),\n",
    "    # ('1-3-2020', '31-5-2020'),\n",
    "    # ('1-6-2020', '31-8-2020'),\n",
    "    # ('1-9-2020', '30-11-2020'),\n",
    "    # ('1-12-2020', '28-2-2021'),\n",
    "    # ('1-3-2021', '31-5-2021'),\n",
    "    # ('1-6-2021', '31-8-2021'),\n",
    "    # ('1-9-2021', '30-11-2021'),\n",
    "    # ('1-12-2021', '28-2-2022'),\n",
    "    # ('1-3-2022', '31-5-2022'),\n",
    "    # ('1-6-2022', '31-8-2022'),\n",
    "    # ('1-9-2022', '30-11-2022'),\n",
    "    # ('1-12-2022', '28-2-2023'),\n",
    "    # ('1-3-2023', '31-5-2023'),\n",
    "    # ('1-6-2023', '31-8-2023'),\n",
    "    # ('1-9-2023', '30-11-2023'),\n",
    "    # ('1-12-2023', '29-2-2024'),\n",
    "    ('1-3-2024', '31-5-2024'),\n",
    "    ('1-6-2024', '31-8-2024'),\n",
    "    \n",
    "]\n",
    "for start, end in seasons:\n",
    "    # Generate a unique file name based on iteration index (i)\n",
    "    job_script_filename = joboutdir + 'run_all_jobs' + start + '_' + end + '.qsub'\n",
    "    \n",
    "    # Open the file for writing\n",
    "    with open(job_script_filename, \"w\") as f3:\n",
    "        f3.write('#!/bin/bash \\n')\n",
    "        f3.write('#PBS -l walltime=10:00:00 \\n')\n",
    "        f3.write('#PBS -l mem=40GB \\n')\n",
    "        f3.write('#PBS -l ncpus=1 \\n')\n",
    "        f3.write('#PBS -l jobfs=1GB \\n')\n",
    "        f3.write('#PBS -l storage=gdata/hh5+gdata/er8+scratch/er8+gdata/rv74 \\n')\n",
    "        f3.write('#PBS -l other=hyperthread \\n')\n",
    "        f3.write('#PBS -q normal \\n')\n",
    "        f3.write('#PBS -P er8 \\n')\n",
    "        f3.write('##how to run with qsub -I interactive.qsub \\n')\n",
    "        f3.write('module use /g/data3/hh5/public/modules \\n')\n",
    "        f3.write('module load conda/analysis3 \\n')\n",
    "        f3.write('conda \\n')\n",
    "        f3.write(f'python3 /home/548/cd3022/aus-historical-solar-droughts/code/python/scripts/data-collect.py {start} {end} \\n')\n",
    "\n",
    "    # Submit the generated script to the job scheduler (PBS) using qsub\n",
    "    try:\n",
    "        # Run the qsub command and submit the script\n",
    "        subprocess.run(['qsub', job_script_filename], check=True)\n",
    "        print(f\"Job script {job_script_filename} submitted successfully.\")\n",
    "    except subprocess.CalledProcessError as e:\n",
    "        print(f\"Error submitting job script {job_script_filename}: {e}\")"
   ]
  }
 ],
 "metadata": {
  "kernelspec": {
   "display_name": "Python [conda env:base] *",
   "language": "python",
   "name": "conda-base-py"
  },
  "language_info": {
   "codemirror_mode": {
    "name": "ipython",
    "version": 3
   },
   "file_extension": ".py",
   "mimetype": "text/x-python",
   "name": "python",
   "nbconvert_exporter": "python",
   "pygments_lexer": "ipython3",
   "version": "3.10.14"
  }
 },
 "nbformat": 4,
 "nbformat_minor": 5
}
