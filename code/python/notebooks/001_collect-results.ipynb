{
 "cells": [
  {
   "cell_type": "code",
   "execution_count": 1,
   "id": "288278f4-9966-4214-b484-850e42b1c5fd",
   "metadata": {},
   "outputs": [],
   "source": [
    "import sys\n",
    "sys.path.append('aus-historical-solar-droughts/code/python/scripts')\n",
    "import utils\n",
    "import subprocess\n",
    "from datetime import datetime, timedelta\n",
    "from dateutil.relativedelta import relativedelta"
   ]
  },
  {
   "cell_type": "code",
   "execution_count": 5,
   "id": "8d75a9c2-375d-4a46-9120-8b2ac1563dfc",
   "metadata": {},
   "outputs": [],
   "source": [
    "script_to_run = 'NEM-droughts'"
   ]
  },
  {
   "cell_type": "code",
   "execution_count": 6,
   "id": "32f916a5-fd5d-451b-b0a9-c2ff1e40a265",
   "metadata": {},
   "outputs": [
    {
     "name": "stdout",
     "output_type": "stream",
     "text": [
      "01-01-2020        31-01-2020\n",
      "01-02-2020        29-02-2020\n",
      "01-03-2020        31-03-2020\n",
      "01-04-2020        30-04-2020\n",
      "01-05-2020        31-05-2020\n",
      "01-06-2020        30-06-2020\n",
      "01-07-2020        31-07-2020\n",
      "01-08-2020        31-08-2020\n",
      "01-09-2020        30-09-2020\n",
      "01-10-2020        31-10-2020\n",
      "01-11-2020        30-11-2020\n",
      "01-12-2020        31-12-2020\n"
     ]
    }
   ],
   "source": [
    "first = '1-1-2020'\n",
    "days_per_batch = 30\n",
    "months_per_batch = 1\n",
    "num_batches = 12\n",
    "\n",
    "first_dt = datetime.strptime(first, \"%d-%m-%Y\")\n",
    "dates = []\n",
    "for x in range(num_batches):\n",
    "    start_dt = first_dt + relativedelta(months = months_per_batch * x)\n",
    "    start_date = start_dt.strftime(\"%d-%m-%Y\")\n",
    "    end_dt = start_dt + relativedelta(months = months_per_batch) - relativedelta(days=1)\n",
    "    end_date = end_dt.strftime(\"%d-%m-%Y\")\n",
    "    dates.append((start_date, end_date))\n",
    "    print(start_date, '      ', end_date)"
   ]
  },
  {
   "cell_type": "code",
   "execution_count": 7,
   "id": "5b7e4679-a467-43c2-bdea-5eeeb2710c00",
   "metadata": {},
   "outputs": [
    {
     "name": "stdout",
     "output_type": "stream",
     "text": [
      "137387143.gadi-pbs\n",
      "Job script /home/548/cd3022/aus-historical-solar-droughts/code/qsub/NEM-droughts___01-01-2020___31-01-2020.qsub submitted successfully.\n",
      "137387144.gadi-pbs\n",
      "Job script /home/548/cd3022/aus-historical-solar-droughts/code/qsub/NEM-droughts___01-02-2020___29-02-2020.qsub submitted successfully.\n",
      "137387145.gadi-pbs\n",
      "Job script /home/548/cd3022/aus-historical-solar-droughts/code/qsub/NEM-droughts___01-03-2020___31-03-2020.qsub submitted successfully.\n",
      "137387146.gadi-pbs\n",
      "Job script /home/548/cd3022/aus-historical-solar-droughts/code/qsub/NEM-droughts___01-04-2020___30-04-2020.qsub submitted successfully.\n",
      "137387147.gadi-pbs\n",
      "Job script /home/548/cd3022/aus-historical-solar-droughts/code/qsub/NEM-droughts___01-05-2020___31-05-2020.qsub submitted successfully.\n",
      "137387148.gadi-pbs\n",
      "Job script /home/548/cd3022/aus-historical-solar-droughts/code/qsub/NEM-droughts___01-06-2020___30-06-2020.qsub submitted successfully.\n",
      "137387150.gadi-pbs\n",
      "Job script /home/548/cd3022/aus-historical-solar-droughts/code/qsub/NEM-droughts___01-07-2020___31-07-2020.qsub submitted successfully.\n",
      "137387151.gadi-pbs\n",
      "Job script /home/548/cd3022/aus-historical-solar-droughts/code/qsub/NEM-droughts___01-08-2020___31-08-2020.qsub submitted successfully.\n",
      "137387152.gadi-pbs\n",
      "Job script /home/548/cd3022/aus-historical-solar-droughts/code/qsub/NEM-droughts___01-09-2020___30-09-2020.qsub submitted successfully.\n",
      "137387153.gadi-pbs\n",
      "Job script /home/548/cd3022/aus-historical-solar-droughts/code/qsub/NEM-droughts___01-10-2020___31-10-2020.qsub submitted successfully.\n",
      "137387154.gadi-pbs\n",
      "Job script /home/548/cd3022/aus-historical-solar-droughts/code/qsub/NEM-droughts___01-11-2020___30-11-2020.qsub submitted successfully.\n",
      "137387155.gadi-pbs\n",
      "Job script /home/548/cd3022/aus-historical-solar-droughts/code/qsub/NEM-droughts___01-12-2020___31-12-2020.qsub submitted successfully.\n"
     ]
    }
   ],
   "source": [
    "for start, end in dates:\n",
    "    \n",
    "    # Generate a unique file name based on iteration\n",
    "    joboutdir = '/home/548/cd3022/aus-historical-solar-droughts/code/qsub/'\n",
    "    job_script_filename = joboutdir + f'{script_to_run}___' + start + '___' + end + '.qsub'\n",
    "    \n",
    "    # Open the file for writing\n",
    "    with open(job_script_filename, \"w\") as f3:\n",
    "        f3.write('#!/bin/bash \\n')\n",
    "        f3.write('#PBS -l walltime=10:00:00 \\n')\n",
    "        f3.write('#PBS -l mem=50GB \\n')\n",
    "        f3.write('#PBS -l ncpus=1 \\n')\n",
    "        f3.write('#PBS -l jobfs=1GB \\n')\n",
    "        f3.write('#PBS -l storage=gdata/hh5+gdata/er8+scratch/er8+gdata/rv74 \\n')\n",
    "        f3.write('#PBS -l other=hyperthread \\n')\n",
    "        f3.write('#PBS -q normal \\n')\n",
    "        f3.write('#PBS -P er8 \\n')\n",
    "        f3.write('##how to run with qsub -I interactive.qsub \\n')\n",
    "        f3.write('module use /g/data3/hh5/public/modules \\n')\n",
    "        f3.write('module load conda/analysis3 \\n')\n",
    "        f3.write('conda \\n')\n",
    "        f3.write(f'python3 /home/548/cd3022/aus-historical-solar-droughts/code/python/scripts/{script_to_run}.py {start} {end} \\n')\n",
    "\n",
    "    # Submit the generated script to the job scheduler (PBS) using qsub\n",
    "    try:\n",
    "        # Run the qsub command and submit the script\n",
    "        subprocess.run(['qsub', job_script_filename], check=True)\n",
    "        print(f\"Job script {job_script_filename} submitted successfully.\")\n",
    "    except subprocess.CalledProcessError as e:\n",
    "        print(f\"Error submitting job script {job_script_filename}: {e}\")"
   ]
  },
  {
   "cell_type": "code",
   "execution_count": null,
   "id": "438b8fb9-521b-4e35-a2f1-f777609f2bd8",
   "metadata": {},
   "outputs": [],
   "source": []
  }
 ],
 "metadata": {
  "kernelspec": {
   "display_name": "Python [conda env:base] *",
   "language": "python",
   "name": "conda-base-py"
  },
  "language_info": {
   "codemirror_mode": {
    "name": "ipython",
    "version": 3
   },
   "file_extension": ".py",
   "mimetype": "text/x-python",
   "name": "python",
   "nbconvert_exporter": "python",
   "pygments_lexer": "ipython3",
   "version": "3.10.14"
  }
 },
 "nbformat": 4,
 "nbformat_minor": 5
}
