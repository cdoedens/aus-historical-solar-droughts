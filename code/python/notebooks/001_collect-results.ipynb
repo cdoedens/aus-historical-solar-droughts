{
 "cells": [
  {
   "cell_type": "code",
   "execution_count": 1,
   "id": "288278f4-9966-4214-b484-850e42b1c5fd",
   "metadata": {},
   "outputs": [
    {
     "name": "stderr",
     "output_type": "stream",
     "text": [
      "ERROR 1: PROJ: proj_create_from_database: Open of /g/data/hh5/public/apps/miniconda3/envs/analysis3-24.04/share/proj failed\n"
     ]
    }
   ],
   "source": [
    "import sys\n",
    "sys.path.append('aus-historical-solar-droughts/code/python/scripts')\n",
    "import utils\n",
    "import subprocess\n",
    "from datetime import datetime, timedelta\n",
    "from dateutil.relativedelta import relativedelta"
   ]
  },
  {
   "cell_type": "code",
   "execution_count": 2,
   "id": "8d75a9c2-375d-4a46-9120-8b2ac1563dfc",
   "metadata": {},
   "outputs": [],
   "source": [
    "script_to_run = 'NEM-droughts'"
   ]
  },
  {
   "cell_type": "code",
   "execution_count": 3,
   "id": "32f916a5-fd5d-451b-b0a9-c2ff1e40a265",
   "metadata": {},
   "outputs": [
    {
     "name": "stdout",
     "output_type": "stream",
     "text": [
      "01-08-2015        31-10-2015\n",
      "01-11-2015        31-01-2016\n",
      "01-02-2016        30-04-2016\n",
      "01-05-2016        31-07-2016\n",
      "01-08-2016        31-10-2016\n",
      "01-11-2016        31-01-2017\n",
      "01-02-2017        30-04-2017\n",
      "01-05-2017        31-07-2017\n",
      "01-08-2017        31-10-2017\n",
      "01-11-2017        31-01-2018\n",
      "01-02-2018        30-04-2018\n",
      "01-05-2018        31-07-2018\n",
      "01-08-2018        31-10-2018\n",
      "01-11-2018        31-01-2019\n",
      "01-02-2019        30-04-2019\n",
      "01-05-2019        31-07-2019\n",
      "01-08-2019        31-10-2019\n",
      "01-11-2019        31-01-2020\n",
      "01-02-2020        30-04-2020\n",
      "01-05-2020        31-07-2020\n"
     ]
    }
   ],
   "source": [
    "first = '1-8-2015'\n",
    "# days_per_batch = 30\n",
    "months_per_batch = 3\n",
    "num_batches = 20\n",
    "\n",
    "first_dt = datetime.strptime(first, \"%d-%m-%Y\")\n",
    "dates = []\n",
    "for x in range(num_batches):\n",
    "    start_dt = first_dt + relativedelta(months = months_per_batch * x)\n",
    "    start_date = start_dt.strftime(\"%d-%m-%Y\")\n",
    "    end_dt = start_dt + relativedelta(months = months_per_batch) - relativedelta(days=1)\n",
    "    end_date = end_dt.strftime(\"%d-%m-%Y\")\n",
    "    dates.append((start_date, end_date))\n",
    "    print(start_date, '      ', end_date)"
   ]
  },
  {
   "cell_type": "code",
   "execution_count": 4,
   "id": "5b7e4679-a467-43c2-bdea-5eeeb2710c00",
   "metadata": {},
   "outputs": [
    {
     "name": "stdout",
     "output_type": "stream",
     "text": [
      "138116412.gadi-pbs\n",
      "Job script /home/548/cd3022/aus-historical-solar-droughts/code/qsub/NEM-droughts___01-08-2015___31-10-2015.qsub submitted successfully.\n",
      "138116413.gadi-pbs\n",
      "Job script /home/548/cd3022/aus-historical-solar-droughts/code/qsub/NEM-droughts___01-11-2015___31-01-2016.qsub submitted successfully.\n",
      "138116414.gadi-pbs\n",
      "Job script /home/548/cd3022/aus-historical-solar-droughts/code/qsub/NEM-droughts___01-02-2016___30-04-2016.qsub submitted successfully.\n",
      "138116415.gadi-pbs\n",
      "Job script /home/548/cd3022/aus-historical-solar-droughts/code/qsub/NEM-droughts___01-05-2016___31-07-2016.qsub submitted successfully.\n",
      "138116416.gadi-pbs\n",
      "Job script /home/548/cd3022/aus-historical-solar-droughts/code/qsub/NEM-droughts___01-08-2016___31-10-2016.qsub submitted successfully.\n",
      "138116417.gadi-pbs\n",
      "Job script /home/548/cd3022/aus-historical-solar-droughts/code/qsub/NEM-droughts___01-11-2016___31-01-2017.qsub submitted successfully.\n",
      "138116418.gadi-pbs\n",
      "Job script /home/548/cd3022/aus-historical-solar-droughts/code/qsub/NEM-droughts___01-02-2017___30-04-2017.qsub submitted successfully.\n",
      "138116419.gadi-pbs\n",
      "Job script /home/548/cd3022/aus-historical-solar-droughts/code/qsub/NEM-droughts___01-05-2017___31-07-2017.qsub submitted successfully.\n",
      "138116420.gadi-pbs\n",
      "Job script /home/548/cd3022/aus-historical-solar-droughts/code/qsub/NEM-droughts___01-08-2017___31-10-2017.qsub submitted successfully.\n",
      "138116421.gadi-pbs\n",
      "Job script /home/548/cd3022/aus-historical-solar-droughts/code/qsub/NEM-droughts___01-11-2017___31-01-2018.qsub submitted successfully.\n",
      "138116422.gadi-pbs\n",
      "Job script /home/548/cd3022/aus-historical-solar-droughts/code/qsub/NEM-droughts___01-02-2018___30-04-2018.qsub submitted successfully.\n",
      "138116423.gadi-pbs\n",
      "Job script /home/548/cd3022/aus-historical-solar-droughts/code/qsub/NEM-droughts___01-05-2018___31-07-2018.qsub submitted successfully.\n",
      "138116424.gadi-pbs\n",
      "Job script /home/548/cd3022/aus-historical-solar-droughts/code/qsub/NEM-droughts___01-08-2018___31-10-2018.qsub submitted successfully.\n",
      "138116425.gadi-pbs\n",
      "Job script /home/548/cd3022/aus-historical-solar-droughts/code/qsub/NEM-droughts___01-11-2018___31-01-2019.qsub submitted successfully.\n",
      "138116426.gadi-pbs\n",
      "Job script /home/548/cd3022/aus-historical-solar-droughts/code/qsub/NEM-droughts___01-02-2019___30-04-2019.qsub submitted successfully.\n",
      "138116427.gadi-pbs\n",
      "Job script /home/548/cd3022/aus-historical-solar-droughts/code/qsub/NEM-droughts___01-05-2019___31-07-2019.qsub submitted successfully.\n",
      "138116428.gadi-pbs\n",
      "Job script /home/548/cd3022/aus-historical-solar-droughts/code/qsub/NEM-droughts___01-08-2019___31-10-2019.qsub submitted successfully.\n",
      "138116429.gadi-pbs\n",
      "Job script /home/548/cd3022/aus-historical-solar-droughts/code/qsub/NEM-droughts___01-11-2019___31-01-2020.qsub submitted successfully.\n",
      "138116430.gadi-pbs\n",
      "Job script /home/548/cd3022/aus-historical-solar-droughts/code/qsub/NEM-droughts___01-02-2020___30-04-2020.qsub submitted successfully.\n",
      "138116431.gadi-pbs\n",
      "Job script /home/548/cd3022/aus-historical-solar-droughts/code/qsub/NEM-droughts___01-05-2020___31-07-2020.qsub submitted successfully.\n"
     ]
    }
   ],
   "source": [
    "for start, end in dates:\n",
    "    \n",
    "    # Generate a unique file name based on iteration\n",
    "    joboutdir = '/home/548/cd3022/aus-historical-solar-droughts/code/qsub/'\n",
    "    job_script_filename = joboutdir + f'{script_to_run}___' + start + '___' + end + '.qsub'\n",
    "    \n",
    "    # Open the file for writing\n",
    "    with open(job_script_filename, \"w\") as f3:\n",
    "        f3.write('#!/bin/bash \\n')\n",
    "        f3.write('#PBS -l walltime=10:00:00 \\n')\n",
    "        f3.write('#PBS -l mem=60GB \\n')\n",
    "        f3.write('#PBS -l ncpus=1 \\n')\n",
    "        f3.write('#PBS -l jobfs=1GB \\n')\n",
    "        f3.write('#PBS -l storage=gdata/hh5+gdata/er8+scratch/er8+gdata/rv74 \\n')\n",
    "        f3.write('#PBS -l other=hyperthread \\n')\n",
    "        f3.write('#PBS -q normal \\n')\n",
    "        f3.write('#PBS -P er8 \\n')\n",
    "        f3.write('##how to run with qsub -I interactive.qsub \\n')\n",
    "        f3.write('module use /g/data3/hh5/public/modules \\n')\n",
    "        f3.write('module load conda/analysis3 \\n')\n",
    "        f3.write('conda \\n')\n",
    "        f3.write(f'python3 /home/548/cd3022/aus-historical-solar-droughts/code/python/scripts/{script_to_run}.py {start} {end} \\n')\n",
    "\n",
    "    # Submit the generated script to the job scheduler (PBS) using qsub\n",
    "    try:\n",
    "        # Run the qsub command and submit the script\n",
    "        subprocess.run(['qsub', job_script_filename], check=True)\n",
    "        print(f\"Job script {job_script_filename} submitted successfully.\")\n",
    "    except subprocess.CalledProcessError as e:\n",
    "        print(f\"Error submitting job script {job_script_filename}: {e}\")"
   ]
  },
  {
   "cell_type": "code",
   "execution_count": null,
   "id": "438b8fb9-521b-4e35-a2f1-f777609f2bd8",
   "metadata": {},
   "outputs": [],
   "source": []
  }
 ],
 "metadata": {
  "kernelspec": {
   "display_name": "Python [conda env:base] *",
   "language": "python",
   "name": "conda-base-py"
  },
  "language_info": {
   "codemirror_mode": {
    "name": "ipython",
    "version": 3
   },
   "file_extension": ".py",
   "mimetype": "text/x-python",
   "name": "python",
   "nbconvert_exporter": "python",
   "pygments_lexer": "ipython3",
   "version": "3.10.14"
  }
 },
 "nbformat": 4,
 "nbformat_minor": 5
}
