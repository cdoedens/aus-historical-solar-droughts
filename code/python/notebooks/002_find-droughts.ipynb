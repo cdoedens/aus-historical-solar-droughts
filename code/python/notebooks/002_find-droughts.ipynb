{
 "cells": [
  {
   "cell_type": "markdown",
   "id": "d9b6dd59-3ad6-4dd0-be28-7216aa72b068",
   "metadata": {},
   "source": [
    "# Use the process-data.py script to find droughts and produce the figures"
   ]
  },
  {
   "cell_type": "code",
   "execution_count": 1,
   "id": "fbbbd9e0-adc9-4e90-9f28-e0a518d91105",
   "metadata": {},
   "outputs": [],
   "source": [
    "import sys\n",
    "sys.path.append('code/python/scripts')\n",
    "import subprocess"
   ]
  },
  {
   "cell_type": "code",
   "execution_count": 2,
   "id": "e84f3ff2-03c7-47ab-b1bc-910acd83f142",
   "metadata": {},
   "outputs": [
    {
     "name": "stdout",
     "output_type": "stream",
     "text": [
      "135510906.gadi-pbs\n",
      "Job script /home/548/cd3022/aus-historical-solar-droughts/code/qsub/produce_seasonal_plots_Summer_max_0.33.qsub submitted successfully.\n",
      "135510907.gadi-pbs\n",
      "Job script /home/548/cd3022/aus-historical-solar-droughts/code/qsub/produce_seasonal_plots_Autumn_max_0.33.qsub submitted successfully.\n",
      "135510908.gadi-pbs\n",
      "Job script /home/548/cd3022/aus-historical-solar-droughts/code/qsub/produce_seasonal_plots_Winter_max_0.33.qsub submitted successfully.\n",
      "135510909.gadi-pbs\n",
      "Job script /home/548/cd3022/aus-historical-solar-droughts/code/qsub/produce_seasonal_plots_Spring_max_0.33.qsub submitted successfully.\n"
     ]
    }
   ],
   "source": [
    "joboutdir = \"/home/548/cd3022/aus-historical-solar-droughts/code/qsub/\"\n",
    "\n",
    "seasons = [\n",
    "    'Summer',\n",
    "    'Autumn',\n",
    "    'Winter',\n",
    "    'Spring'\n",
    "]\n",
    "\n",
    "definition_list = [\n",
    "    # ('mean', '0.5'),\n",
    "    ('max', '0.33'),\n",
    "]\n",
    "for season in seasons:\n",
    "    for definition in definition_list:\n",
    "        # Generate a unique file name based on iteration index (i)\n",
    "        job_script_filename = joboutdir + 'produce_seasonal_plots_' + season + '_' + definition[0] + '_' + definition[1] + '.qsub'\n",
    "        \n",
    "        # Open the file for writing\n",
    "        with open(job_script_filename, \"w\") as f3:\n",
    "            f3.write('#!/bin/bash \\n')\n",
    "            f3.write('#PBS -l walltime=1:00:00 \\n')\n",
    "            f3.write('#PBS -l mem=100GB \\n')\n",
    "            f3.write('#PBS -l ncpus=1 \\n')\n",
    "            f3.write('#PBS -l jobfs=1GB \\n')\n",
    "            f3.write('#PBS -l storage=gdata/hh5+gdata/er8+scratch/er8+gdata/rv74 \\n')\n",
    "            f3.write('#PBS -l other=hyperthread \\n')\n",
    "            f3.write('#PBS -q normal \\n')\n",
    "            f3.write('#PBS -P er8 \\n')\n",
    "            f3.write('##how to run with qsub -I interactive.qsub \\n')\n",
    "            f3.write('module use /g/data3/hh5/public/modules \\n')\n",
    "            f3.write('module load conda/analysis3 \\n')\n",
    "            f3.write('conda \\n')\n",
    "            f3.write(f'python3 /home/548/cd3022/aus-historical-solar-droughts/code/python/scripts/process-data.py {season} {definition[0]} {definition[1]} \\n')\n",
    "    \n",
    "        # Submit the generated script to the job scheduler (PBS) using qsub\n",
    "        try:\n",
    "            # Run the qsub command and submit the script\n",
    "            subprocess.run(['qsub', job_script_filename], check=True)\n",
    "            print(f\"Job script {job_script_filename} submitted successfully.\")\n",
    "        except subprocess.CalledProcessError as e:\n",
    "            print(f\"Error submitting job script {job_script_filename}: {e}\")"
   ]
  }
 ],
 "metadata": {
  "kernelspec": {
   "display_name": "Python [conda env:base] *",
   "language": "python",
   "name": "conda-base-py"
  },
  "language_info": {
   "codemirror_mode": {
    "name": "ipython",
    "version": 3
   },
   "file_extension": ".py",
   "mimetype": "text/x-python",
   "name": "python",
   "nbconvert_exporter": "python",
   "pygments_lexer": "ipython3",
   "version": "3.10.14"
  }
 },
 "nbformat": 4,
 "nbformat_minor": 5
}
