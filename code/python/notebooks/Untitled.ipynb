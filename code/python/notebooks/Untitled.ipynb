{
 "cells": [
  {
   "cell_type": "code",
   "execution_count": 8,
   "id": "f6f9681b-0a41-4cce-935e-dca22f29cfbd",
   "metadata": {},
   "outputs": [],
   "source": [
    "import geopandas as gpd\n",
    "import pandas as pd\n",
    "import rasterio\n",
    "import xarray as xr\n",
    "from pathlib import Path\n",
    "from dask.distributed import Client\n",
    "import dask\n",
    "from glob import glob"
   ]
  },
  {
   "cell_type": "code",
   "execution_count": 3,
   "id": "9f6574cf-d300-4bb8-a5be-3bb04aebcc0d",
   "metadata": {},
   "outputs": [],
   "source": [
    "shapefile = '/home/548/cd3022/aus-historical-solar-droughts/data/boundary_files/REZ-boundaries.shx'\n",
    "gdf = gpd.read_file(shapefile)"
   ]
  },
  {
   "cell_type": "code",
   "execution_count": null,
   "id": "018ef3d7-2af6-49f8-bf7d-3d316a018d02",
   "metadata": {},
   "outputs": [],
   "source": [
    "ncpus = os.environ.get('PBS_NCPUS')\n",
    "c = Client(n_workers=int(ncpus))\n",
    "c"
   ]
  },
  {
   "cell_type": "code",
   "execution_count": 7,
   "id": "87d8fcc8-813c-4cf9-829e-c62dfde28925",
   "metadata": {},
   "outputs": [
    {
     "name": "stdout",
     "output_type": "stream",
     "text": [
      "CPU times: user 11.8 s, sys: 8.19 s, total: 20 s\n",
      "Wall time: 22.5 s\n"
     ]
    }
   ],
   "source": [
    "%%time\n",
    "directory=Path('/g/data/rv74/satellite-products/arc/der/himawari-ahi/solar/p1s/latest/2020/05/05')\n",
    "files = list(directory.glob(\"*.nc\"))\n",
    "ds = xr.open_mfdataset(files, parallel=True, chunks={'time':1})"
   ]
  }
 ],
 "metadata": {
  "kernelspec": {
   "display_name": "Python [conda env:base] *",
   "language": "python",
   "name": "conda-base-py"
  },
  "language_info": {
   "codemirror_mode": {
    "name": "ipython",
    "version": 3
   },
   "file_extension": ".py",
   "mimetype": "text/x-python",
   "name": "python",
   "nbconvert_exporter": "python",
   "pygments_lexer": "ipython3",
   "version": "3.10.14"
  }
 },
 "nbformat": 4,
 "nbformat_minor": 5
}
