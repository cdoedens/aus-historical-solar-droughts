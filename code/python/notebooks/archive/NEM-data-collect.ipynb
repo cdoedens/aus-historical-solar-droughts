{
 "cells": [
  {
   "cell_type": "markdown",
   "id": "fa7b3652-40db-46e3-8a89-40319096eeb4",
   "metadata": {},
   "source": [
    "# Collect solar generation data relevant to the NEM\n",
    "- panels are single axis tracker\n",
    "- all spatial points are averaged across the REZs"
   ]
  },
  {
   "cell_type": "code",
   "execution_count": 1,
   "id": "70ea292d-0822-4b83-b15e-880fecc39b22",
   "metadata": {},
   "outputs": [],
   "source": [
    "import sys\n",
    "sys.path.append('/home/548/cd3022/aus-historical-solar-droughts/code/python/scripts')\n",
    "import utils_V2\n",
    "import os\n",
    "\n",
    "from datetime import datetime, timedelta\n",
    "import pandas as pd\n",
    "import numpy as np\n",
    "import xarray as xr"
   ]
  },
  {
   "cell_type": "code",
   "execution_count": 2,
   "id": "550ea7ef-f341-48d6-b79c-5d02e8c0eb33",
   "metadata": {},
   "outputs": [],
   "source": [
    "start_date = sys.argv[1]\n",
    "end_date = sys.argv[2]\n",
    "\n",
    "# start_date = '1-1-2022'\n",
    "# end_date = start_date"
   ]
  },
  {
   "cell_type": "code",
   "execution_count": 3,
   "id": "f35d8488-089b-4a4e-abae-d2860247ba04",
   "metadata": {},
   "outputs": [],
   "source": [
    "# REZ mask\n",
    "mask_file = \"/home/548/cd3022/aus-historical-solar-droughts/data/boundary_files/REZ_mask.npz\"\n",
    "loaded_mask = np.load(mask_file)\n",
    "mask = loaded_mask[\"mask\"]"
   ]
  },
  {
   "cell_type": "code",
   "execution_count": 4,
   "id": "23d2b681-4a29-453a-be44-5f2e5760cc72",
   "metadata": {},
   "outputs": [],
   "source": [
    "# datetime object for finding files\n",
    "dir_dt = datetime.strptime(start_date, \"%d-%m-%Y\")\n",
    "end_dt = datetime.strptime(end_date, \"%d-%m-%Y\")\n",
    "\n",
    "# num files for the loop, and for making output file shape\n",
    "num_days = (end_dt - dir_dt).days+1\n",
    "num_files = 103 * num_days # 103 files in each directory\n",
    "\n",
    "# same lat/lon for all data\n",
    "lat_len = 1726\n",
    "lat_vals = np.linspace(-44.5, -10.0, lat_len).astype(np.float32)\n",
    "lon_len = 2214\n",
    "lon_vals = np.linspace(112, 156.26, lon_len).astype(np.float32)\n",
    "lon_grid, lat_grid = np.meshgrid(lon_vals, lat_vals)\n",
    "lat_grid = lat_grid[mask]\n",
    "lon_grid = lon_grid[mask]\n",
    "\n",
    "times = [] # collect times while iterating and add at the end\n",
    "\n",
    "# make output array with correct shape first, for efficiency\n",
    "output_data = xr.DataArray(\n",
    "    np.full((num_files), np.nan),\n",
    "    dims=('time'),\n",
    "    name='capacity_factor'\n",
    ")"
   ]
  },
  {
   "cell_type": "code",
   "execution_count": 5,
   "id": "a1063935-9b55-4c2f-9400-7b91b919668a",
   "metadata": {},
   "outputs": [
    {
     "name": "stderr",
     "output_type": "stream",
     "text": [
      "/g/data/hh5/public/apps/miniconda3/envs/analysis3-24.04/lib/python3.10/site-packages/pvlib/spa.py:753: RuntimeWarning: invalid value encountered in arcsin\n",
      "  e0 = np.degrees(np.arcsin(\n"
     ]
    },
    {
     "name": "stdout",
     "output_type": "stream",
     "text": [
      "File not found: /g/data/rv74/satellite-products/arc/der/himawari-ahi/solar/p1s/v1.1/2022/01/01/IDE00326.202201010240.nc.\n"
     ]
    },
    {
     "name": "stderr",
     "output_type": "stream",
     "text": [
      "/jobfs/136901725.gadi-pbs/ipykernel_44138/2399254984.py:38: UserWarning: Converting non-nanosecond precision datetime values to nanosecond precision. This behavior can eventually be relaxed in xarray, as it is an artifact from pandas which is now beginning to support non-nanosecond precision values. This warning is caused by passing non-nanosecond np.datetime64 or np.timedelta64 values to the DataArray or Variable constructor; it can be silenced by converting the values to nanosecond precision ahead of time.\n",
      "  output_data = output_data.assign_coords(time=times) # add time values\n"
     ]
    }
   ],
   "source": [
    "# loop through all files in date range\n",
    "for i in range(num_files):\n",
    "    dataset = utils_V2.get_irradiance_dataset(dir_dt=dir_dt)\n",
    "\n",
    "    if dataset is not None: # only look at data if file exists\n",
    "\n",
    "        # irradiance data for capacity factor calculations\n",
    "        REZ_ghi = dataset['surface_global_irradiance'].squeeze(dim=\"time\").values[mask]\n",
    "        REZ_dni = dataset['direct_normal_irradiance'].squeeze(dim=\"time\").values[mask]\n",
    "        REZ_dhi = dataset['surface_diffuse_irradiance'].squeeze(dim=\"time\").values[mask]\n",
    "        dataset.close()\n",
    "        \n",
    "        # time, lat, and lon for solar angles needed for capacity factor calculations\n",
    "        utc_dt = dir_dt - timedelta(hours=5, minutes=30)\n",
    "        # time = pd.Timestamp(f'{utc_dt.year}-{utc_dt.month}-{utc_dt.day} {utc_dt.hour}:{utc_dt.minute}:00', tz='UTC') # for solar calcs\n",
    "        time = pd.Timestamp(utc_dt, tz='UTC')\n",
    "        \n",
    "        # calculate capacity factors using pvlib\n",
    "        capacity_factors = utils_V2.solar_cf(\n",
    "            pv_model = 'Canadian_Solar_CS5P_220M___2009_',\n",
    "            inverter_model = 'ABB__MICRO_0_25_I_OUTD_US_208__208V_',\n",
    "            ghi=REZ_ghi,\n",
    "            dni=REZ_dni,\n",
    "            dhi=REZ_dhi,\n",
    "            time=time,\n",
    "            lat_grid=lat_grid,\n",
    "            lon_grid=lon_grid\n",
    "        )  \n",
    "        \n",
    "        if np.all(np.isnan(capacity_factors)):  \n",
    "            output_data[i] = np.nan  # or any default value you prefer\n",
    "        else:\n",
    "            output_data[i] = np.nanmean(capacity_factors)\n",
    "    \n",
    "    times.append(np.datetime64(utc_dt))  # for output file\n",
    "\n",
    "    if dir_dt.strftime('%H%M') == '1700': # last file of day\n",
    "        dir_dt = dir_dt + timedelta(hours=7)\n",
    "    else:\n",
    "        dir_dt = dir_dt + timedelta(minutes=10)\n",
    "    \n",
    "output_data = output_data.assign_coords(time=times) # add time values"
   ]
  },
  {
   "cell_type": "code",
   "execution_count": 7,
   "id": "0828a4e0-7a33-416c-9688-84d7fc4539a3",
   "metadata": {},
   "outputs": [],
   "source": [
    "output_file = f'/g/data/er8/users/cd3022/solar_drought/NEM_hourly_capacity_factors/{start_date}___{end_date}.nc'\n",
    "os.makedirs(os.path.dirname(output_file), exist_ok=True)\n",
    "output_data.to_netcdf(output_file)"
   ]
  },
  {
   "cell_type": "code",
   "execution_count": 10,
   "id": "6331db21-f390-4edf-b464-fa2f213dba9c",
   "metadata": {},
   "outputs": [
    {
     "name": "stdout",
     "output_type": "stream",
     "text": [
      "[NbConvertApp] Converting notebook /home/548/cd3022/aus-historical-solar-droughts/code/python/notebooks/NEM-data-collect.ipynb to script\n",
      "[NbConvertApp] Writing 3875 bytes to /home/548/cd3022/aus-historical-solar-droughts/code/python/scripts/NEM-data-collect.py\n"
     ]
    }
   ],
   "source": [
    "if __name__ == '__main__':\n",
    "    \n",
    "    NOTEBOOK_PATH=\"/home/548/cd3022/aus-historical-solar-droughts/code/python/notebooks/NEM-data-collect.ipynb\"\n",
    "    SCRIPT_PATH=\"/home/548/cd3022/aus-historical-solar-droughts/code/python/scripts/NEM-data-collect\"\n",
    "    \n",
    "    !jupyter nbconvert --to script {NOTEBOOK_PATH} --output {SCRIPT_PATH}"
   ]
  }
 ],
 "metadata": {
  "kernelspec": {
   "display_name": "Python [conda env:base] *",
   "language": "python",
   "name": "conda-base-py"
  },
  "language_info": {
   "codemirror_mode": {
    "name": "ipython",
    "version": 3
   },
   "file_extension": ".py",
   "mimetype": "text/x-python",
   "name": "python",
   "nbconvert_exporter": "python",
   "pygments_lexer": "ipython3",
   "version": "3.10.14"
  }
 },
 "nbformat": 4,
 "nbformat_minor": 5
}
