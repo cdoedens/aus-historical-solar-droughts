{
 "cells": [
  {
   "cell_type": "code",
   "execution_count": 1,
   "id": "081c85b4-751e-4077-b15d-dcb879669790",
   "metadata": {},
   "outputs": [],
   "source": [
    "import xarray as xr\n",
    "import numpy as np\n",
    "import pandas as pd\n",
    "\n",
    "from datetime import datetime, timedelta\n",
    "from dateutil.relativedelta import relativedelta\n",
    "\n",
    "import sys\n",
    "sys.path.append('/home/548/cd3022/aus-historical-solar-droughts/code/python/scripts')\n",
    "import utils_V2"
   ]
  },
  {
   "cell_type": "code",
   "execution_count": 10,
   "id": "2ed515b2-c7ff-475b-847e-2a416d6271fb",
   "metadata": {},
   "outputs": [],
   "source": [
    "drought_counts = xr.DataArray(np.zeros([103, 1155, 913]), dims=(\"time\", \"latitude\", \"longitude\"))\n",
    "time_coord = [t.time() for t in pd.date_range(start=\"18:30\", periods=103, freq=\"10min\")]\n",
    "drought_counts = drought_counts.assign_coords(time = time_coord)\n",
    "drought_counts = drought_counts.assign_coords(time=[t.strftime(\"%H:%M:%S\") for t in drought_counts.time.values])"
   ]
  },
  {
   "cell_type": "code",
   "execution_count": 11,
   "id": "00a69723-5857-4395-80e8-501653e7c907",
   "metadata": {},
   "outputs": [
    {
     "name": "stdout",
     "output_type": "stream",
     "text": [
      "01-01-2020        05-01-2020\n",
      "06-01-2020        10-01-2020\n",
      "11-01-2020        15-01-2020\n",
      "16-01-2020        20-01-2020\n",
      "21-01-2020        25-01-2020\n",
      "26-01-2020        30-01-2020\n"
     ]
    }
   ],
   "source": [
    "first = '1-1-2020'\n",
    "days_per_batch = 5\n",
    "num_batches = 6\n",
    "\n",
    "first_dt = datetime.strptime(first, \"%d-%m-%Y\")\n",
    "dates = []\n",
    "for x in range(num_batches):\n",
    "    start_dt = first_dt + relativedelta(days = days_per_batch * x)\n",
    "    start_date = start_dt.strftime(\"%d-%m-%Y\")\n",
    "    end_dt = start_dt + relativedelta(days = days_per_batch) - relativedelta(days=1)\n",
    "    end_date = end_dt.strftime(\"%d-%m-%Y\")\n",
    "    dates.append((start_date, end_date))\n",
    "    print(start_date, '      ', end_date)"
   ]
  },
  {
   "cell_type": "code",
   "execution_count": 12,
   "id": "a5ce068c-d806-420f-89c1-786956adc5d5",
   "metadata": {},
   "outputs": [],
   "source": [
    "for start, end in dates:\n",
    "    data = xr.open_dataarray(f'/g/data/er8/users/cd3022/solar_drought/REZ_tilting/ideal_ratio/drought_heatmap/{start}___{end}___0.1.nc')\n",
    "    drought_counts += data"
   ]
  },
  {
   "cell_type": "code",
   "execution_count": 13,
   "id": "232b5f55-5975-4224-85a2-4a809173456c",
   "metadata": {},
   "outputs": [],
   "source": [
    "data = drought_counts.where(drought_counts != 0, np.nan)"
   ]
  },
  {
   "cell_type": "code",
   "execution_count": 14,
   "id": "4d4132b4-dedf-4a98-b337-fb87dc264803",
   "metadata": {},
   "outputs": [
    {
     "name": "stderr",
     "output_type": "stream",
     "text": [
      "INFO:matplotlib.animation:Animation.save using <class 'matplotlib.animation.PillowWriter'>\n"
     ]
    },
    {
     "data": {
      "image/png": "[encoded data removed]",
      "text/plain": [
       "<Figure size 800x600 with 2 Axes>"
      ]
     },
     "metadata": {},
     "output_type": "display_data"
    }
   ],
   "source": [
    "import matplotlib.pyplot as plt\n",
    "import matplotlib.animation as animation\n",
    "\n",
    "# Set up the figure and axis\n",
    "fig, ax = plt.subplots(figsize=(8, 6))\n",
    "cmap = plt.cm.viridis  # Choose a colormap\n",
    "vmin, vmax = np.nanmin(data), np.nanmax(data)  # Normalize color scale\n",
    "\n",
    "# Create the initial plot (first frame)\n",
    "img = ax.imshow(data.isel(time=0), cmap=cmap, vmin=vmin, vmax=vmax)\n",
    "ax.set_title(f\"Time: {data.time.values[0]}\")  # Set initial title\n",
    "plt.colorbar(img, ax=ax, label=\"Variable\")\n",
    "\n",
    "# Function to update the frame\n",
    "def update(frame):\n",
    "    img.set_array(data.isel(time=frame))  # Update data\n",
    "    ax.set_title(f\"Time: {data.time.values[frame]}\")  # Update title\n",
    "    return img,\n",
    "\n",
    "# Create animation\n",
    "ani = animation.FuncAnimation(fig, update, frames=103, interval=200, blit=False)\n",
    "\n",
    "# Save as a video (MP4) or GIF\n",
    "# ani.save(\"animation.mp4\", writer=\"ffmpeg\", dpi=150)  # Save as MP4\n",
    "ani.save(\"animation.gif\", writer=\"pillow\", dpi=150)  # Save as GIF\n",
    "\n",
    "# Show animation inline (if using Jupyter Notebook)\n",
    "plt.show()\n",
    "plt.close(fig)"
   ]
  },
  {
   "cell_type": "code",
   "execution_count": null,
   "id": "a135e731-44be-4e1a-b229-2b3b14c0dde0",
   "metadata": {},
   "outputs": [],
   "source": []
  }
 ],
 "metadata": {
  "kernelspec": {
   "display_name": "Python [conda env:base] *",
   "language": "python",
   "name": "conda-base-py"
  },
  "language_info": {
   "codemirror_mode": {
    "name": "ipython",
    "version": 3
   },
   "file_extension": ".py",
   "mimetype": "text/x-python",
   "name": "python",
   "nbconvert_exporter": "python",
   "pygments_lexer": "ipython3",
   "version": "3.10.14"
  }
 },
 "nbformat": 4,
 "nbformat_minor": 5
}
