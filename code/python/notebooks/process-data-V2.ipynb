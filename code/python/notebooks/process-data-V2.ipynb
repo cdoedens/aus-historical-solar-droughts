{
 "cells": [
  {
   "cell_type": "code",
   "execution_count": 68,
   "id": "c9fec320-d47c-4dc3-9efa-bd07edc650f3",
   "metadata": {},
   "outputs": [],
   "source": [
    "import xarray as xr\n",
    "import numpy as np\n",
    "import matplotlib.pyplot as plt\n",
    "from datetime import datetime, timedelta\n",
    "from dateutil.relativedelta import relativedelta\n",
    "import pandas as pd\n",
    "\n",
    "import cartopy.crs as ccrs\n",
    "import cartopy.feature as cfeature"
   ]
  },
  {
   "cell_type": "code",
   "execution_count": 2,
   "id": "e126f1f2-0ce8-4dc9-8140-72036b08e8f7",
   "metadata": {},
   "outputs": [
    {
     "name": "stdout",
     "output_type": "stream",
     "text": [
      "01-01-2020        31-01-2020\n",
      "01-02-2020        29-02-2020\n",
      "01-03-2020        31-03-2020\n",
      "01-04-2020        30-04-2020\n",
      "01-05-2020        31-05-2020\n",
      "01-06-2020        30-06-2020\n",
      "01-07-2020        31-07-2020\n",
      "01-08-2020        31-08-2020\n",
      "01-09-2020        30-09-2020\n",
      "01-10-2020        31-10-2020\n",
      "01-11-2020        30-11-2020\n",
      "01-12-2020        31-12-2020\n"
     ]
    }
   ],
   "source": [
    "first = '1-1-2020'\n",
    "num_months = 12\n",
    "\n",
    "first_dt = datetime.strptime(first, \"%d-%m-%Y\")\n",
    "dates = []\n",
    "for x in range(num_months):\n",
    "    start_dt = first_dt + relativedelta(months=1*x)\n",
    "    start_date = start_dt.strftime(\"%d-%m-%Y\")\n",
    "    end_dt = start_dt + relativedelta(months=1) - relativedelta(days=1)\n",
    "    end_date = end_dt.strftime(\"%d-%m-%Y\")\n",
    "    dates.append((start_date, end_date))\n",
    "    print(start_date, '      ', end_date)"
   ]
  },
  {
   "cell_type": "code",
   "execution_count": 62,
   "id": "1001b3c9-5925-4242-80dd-c1dcb587860c",
   "metadata": {},
   "outputs": [],
   "source": [
    "data_dir = '/g/data/er8/users/cd3022/solar_drought/REZ_tilting/ideal_ratio/regional/0.1'\n",
    "data = [xr.open_dataarray(f'{data_dir}/{start}___{end}') for start, end in dates]\n",
    "da = xr.concat(data, dim='time').sortby(\"time\")"
   ]
  },
  {
   "cell_type": "code",
   "execution_count": 63,
   "id": "016b4540-8a03-40fc-8b7d-4014b65a15da",
   "metadata": {},
   "outputs": [
    {
     "data": {
      "text/plain": [
       "[<matplotlib.lines.Line2D at 0x149893cf0520>]"
      ]
     },
     "execution_count": 63,
     "metadata": {},
     "output_type": "execute_result"
    },
    {
     "data": {
      "image/png": "[encoded data removed]",
      "text/plain": [
       "<Figure size 640x480 with 1 Axes>"
      ]
     },
     "metadata": {},
     "output_type": "display_data"
    }
   ],
   "source": [
    "data = []\n",
    "for time in np.unique(da.time):\n",
    "    data.append((da.sel(time=time).size))\n",
    "\n",
    "plt.plot(np.unique(da.time), data)"
   ]
  },
  {
   "cell_type": "code",
   "execution_count": 69,
   "id": "2df6ded8-6419-41d7-a89c-2b31d64a56a9",
   "metadata": {},
   "outputs": [
    {
     "data": {
      "text/plain": [
       "DatetimeIndex(['2020-01-30 19:40:00', '2020-01-30 19:50:00',\n",
       "               '2020-01-30 20:10:00', '2020-01-30 20:20:00',\n",
       "               '2020-01-30 20:30:00', '2020-01-30 20:40:00',\n",
       "               '2020-01-30 20:50:00', '2020-01-30 21:00:00',\n",
       "               '2020-01-30 21:10:00', '2020-01-30 21:20:00',\n",
       "               ...\n",
       "               '2020-12-31 08:00:00', '2020-12-31 08:10:00',\n",
       "               '2020-12-31 08:20:00', '2020-12-31 08:40:00',\n",
       "               '2020-12-31 08:50:00', '2020-12-31 09:00:00',\n",
       "               '2020-12-31 09:10:00', '2020-12-31 09:20:00',\n",
       "               '2020-12-31 09:30:00', '2020-12-31 09:40:00'],\n",
       "              dtype='datetime64[ns]', length=825, freq=None)"
      ]
     },
     "execution_count": 69,
     "metadata": {},
     "output_type": "execute_result"
    }
   ],
   "source": [
    "dates = pd.to_datetime(np.unique(da.time))\n",
    "dates"
   ]
  },
  {
   "cell_type": "code",
   "execution_count": 74,
   "id": "5056c483-4df2-416c-a092-1238cc7d6f78",
   "metadata": {},
   "outputs": [
    {
     "data": {
      "text/plain": [
       "array([28, 29, 30, 31])"
      ]
     },
     "execution_count": 74,
     "metadata": {},
     "output_type": "execute_result"
    }
   ],
   "source": [
    "np.unique([date.day for date in dates])"
   ]
  }
 ],
 "metadata": {
  "kernelspec": {
   "display_name": "Python [conda env:base] *",
   "language": "python",
   "name": "conda-base-py"
  },
  "language_info": {
   "codemirror_mode": {
    "name": "ipython",
    "version": 3
   },
   "file_extension": ".py",
   "mimetype": "text/x-python",
   "name": "python",
   "nbconvert_exporter": "python",
   "pygments_lexer": "ipython3",
   "version": "3.10.14"
  }
 },
 "nbformat": 4,
 "nbformat_minor": 5
}
