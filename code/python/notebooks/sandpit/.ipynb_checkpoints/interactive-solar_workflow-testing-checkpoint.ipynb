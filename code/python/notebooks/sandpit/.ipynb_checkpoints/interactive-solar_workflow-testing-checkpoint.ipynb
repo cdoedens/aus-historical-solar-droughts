{
 "cells": [
  {
   "cell_type": "code",
   "execution_count": 1,
   "id": "ce2a334d-f35a-4dc4-9ed2-aa296fbda120",
   "metadata": {},
   "outputs": [],
   "source": [
    "from compute_solar import solar_workflow"
   ]
  },
  {
   "cell_type": "code",
   "execution_count": 2,
   "id": "6a29f012",
   "metadata": {},
   "outputs": [],
   "source": [
    "# qsub -I -q normal -P er8 -l walltime=2:00:00,ncpus=1,mem=120GB,jobfs=100MB,storage=gdata/rt52+gdata/ob53+gdata/hh5+gdata/er8+gdata/rv74"
   ]
  },
  {
   "cell_type": "code",
   "execution_count": 3,
   "id": "8f434d29-fb01-4b39-a1ef-44fdc9dc3df7",
   "metadata": {},
   "outputs": [
    {
     "name": "stderr",
     "output_type": "stream",
     "text": [
      "2025-07-01 14:53:13,011:compute_solar:INFO: START SOLAR_WORKFLOW with: date 2020/05/02, region REZ_Q2, tilt single_axis\n",
      "2025-07-01 14:53:13,012:compute_solar:INFO: reading data for 2020/05/02\n",
      "2025-07-01 14:53:13,014:compute_solar:INFO: getting region shape for: REZ, Q2\n",
      "2025-07-01 14:53:13,190:compute_solar:INFO: chunking data with lat/lon size of: 50\n",
      "2025-07-01 14:53:13,194:compute_solar:INFO: Loading 103 files\n",
      "2025-07-01 14:53:28,032:compute_solar:INFO: applying regional mask\n",
      "INFO:compute_solar:applying regional mask\n",
      "2025-07-01 14:53:28,057:compute_solar:INFO: reading dataset variables\n",
      "INFO:compute_solar:reading dataset variables\n",
      "2025-07-01 14:54:19,527:compute_solar:INFO: getting BARRA-R2 temperature\n",
      "INFO:compute_solar:getting BARRA-R2 temperature\n",
      "2025-07-01 14:54:20,441:compute_solar:INFO: running pvlib functions\n",
      "INFO:compute_solar:running pvlib functions\n",
      "2025-07-01 14:54:38,804:compute_solar:INFO: Writing data to: /g/data/er8/users/cd3022/solar_drought/REZ/Q2/2020/05//Q2_solar-pv_2020-05-02.nc\n",
      "INFO:compute_solar:Writing data to: /g/data/er8/users/cd3022/solar_drought/REZ/Q2/2020/05//Q2_solar-pv_2020-05-02.nc\n",
      "2025-07-01 14:54:38,924:compute_solar:INFO: END OF SOLAR_WORKFLOW\n",
      "INFO:compute_solar:END OF SOLAR_WORKFLOW\n"
     ]
    }
   ],
   "source": [
    "solar_workflow(date='2020/05/02', region='REZ_Q2', tilt='single_axis')"
   ]
  },
  {
   "cell_type": "code",
   "execution_count": null,
   "id": "7725eda3-e7d7-430f-b29f-5da0c8ab39bf",
   "metadata": {},
   "outputs": [],
   "source": []
  }
 ],
 "metadata": {
  "kernelspec": {
   "display_name": "Python [conda env:base] *",
   "language": "python",
   "name": "conda-base-py"
  },
  "language_info": {
   "codemirror_mode": {
    "name": "ipython",
    "version": 3
   },
   "file_extension": ".py",
   "mimetype": "text/x-python",
   "name": "python",
   "nbconvert_exporter": "python",
   "pygments_lexer": "ipython3",
   "version": "3.10.14"
  }
 },
 "nbformat": 4,
 "nbformat_minor": 5
}
